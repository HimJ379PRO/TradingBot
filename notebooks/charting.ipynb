{
 "cells": [
  {
   "cell_type": "code",
   "execution_count": 1,
   "id": "e494be07",
   "metadata": {},
   "outputs": [],
   "source": [
    "# Import libraries and modules\n",
    "import sys\n",
    "import os\n",
    "sys.path.append(os.path.abspath(\"/Users/himj/HDrive/AppDevStudio/TradingBot\"))\n",
    "\n",
    "import pandas as pd\n",
    "\n",
    "from utilities.charting import plot_candlesticks_RSI_chart"
   ]
  },
  {
   "cell_type": "markdown",
   "id": "5f1cb969",
   "metadata": {},
   "source": [
    "### Charts"
   ]
  },
  {
   "cell_type": "code",
   "execution_count": 2,
   "id": "46594ac1",
   "metadata": {},
   "outputs": [],
   "source": [
    "root_path = \"/Users/himj/HDrive/AppDevStudio/TradingBot/\"\n",
    "\n",
    "df = pd.read_csv(root_path+\"data/indicators/RELIANCE.NS_D.csv\", parse_dates=['Date'], index_col='Date').tail(100)"
   ]
  },
  {
   "cell_type": "code",
   "execution_count": 3,
   "id": "72ec6e06",
   "metadata": {},
   "outputs": [
    {
     "data": {
      "application/vnd.plotly.v1+json": {
       "config": {
        "plotlyServerURL": "https://plot.ly"
       },
       "data": [
        {
         "close": {
          "bdata": "MzMzMzOHk0CamZmZmVmTQDMzMzMzfZNAMzMzMzOkk0CamZmZmX+TQGZmZmZmW5NAZmZmZmZbk0CamZmZmXyTQJqZmZmZ1JNAZmZmZmbxk0BmZmZmZliUQM3MzMzMFZRAMzMzMzPkk0DNzMzMzPiTQGZmZmZm7JNAZmZmZmaSk0CamZmZmYyTQM3MzMzMgpNAzczMzMzSkkDNzMzMzDaSQM3MzMzMeJJAZmZmZmaFkkDNzMzMzAuTQGZmZmZmYJNAMzMzMzNdk0AAAAAAAOqTQAAAAAAAPpRAzczMzMwslEAAAAAAAFCUQGZmZmZmVpRAmpmZmZlRlEAzMzMzM2OVQM3MzMzM3pVAAAAAAAD0lUAzMzMzMy+WQDMzMzMzXZZAmpmZmZkzlkAAAAAAAPiVQAAAAAAA/JVAzczMzMyElUAAAAAAAHKWQM3MzMzMHpZAmpmZmZlBlkDNzMzMzLiWQJqZmZmZwZZAMzMzMzODlkBmZmZmZkKWQM3MzMzMVJZAmpmZmZkFlkAzMzMzM0uWQDMzMzMza5ZAZmZmZmY4lkCamZmZmROWQDMzMzMzJ5ZAmpmZmZkzlkDNzMzMzBaWQAAAAAAA9pVAAAAAAAA+lkCamZmZmYmWQAAAAAAAjpZAMzMzMzOjlkAAAAAAAHqWQJqZmZmZo5ZAZmZmZmaGlkCamZmZmU+WQDMzMzMzd5ZAzczMzMxclkBmZmZmZliWQDMzMzMzZZZAzczMzMzolkAzMzMzM8OWQDMzMzMzq5ZAMzMzMzPtlkAzMzMzM12XQJqZmZmZrZdAZmZmZmZyl0CamZmZmeGXQDMzMzMzu5dAMzMzMzO3l0AzMzMzM92XQAAAAAAAFphAZmZmZmYGmEAAAAAAALyXQM3MzMzMtJdAzczMzMxcl0DNzMzMzC6XQJqZmZmZNZdAZmZmZmY2l0CamZmZmRGXQAAAAAAAEJdAZmZmZmZSlkAzMzMzMxOWQGZmZmZmQpZAmpmZmZnrlUDNzMzMzL6VQGZmZmZmrpVAZmZmZmYklkBmZmZmZgiWQM3MzMzMuJVAzczMzMzGlUA=",
          "dtype": "f8"
         },
         "high": {
          "bdata": "MzMzMzObk0AAAAAAAKiTQAAAAAAAhpNAAAAAAAC8k0CamZmZmcCTQJqZmZmZpZNAZmZmZmZbk0AAAAAAAJWTQAAAAAAA5JNAAAAAAAAElEAAAAAAAGiUQM3MzMzMbpRAMzMzMzM3lEAAAAAAABSUQAAAAAAAP5RAmpmZmZn3k0AzMzMzM56TQDMzMzMzj5NAzczMzMx1k0AAAAAAAE2SQGZmZmZmspJAMzMzMzOXkkCamZmZmRqTQAAAAAAAjJNAmpmZmZljk0DNzMzMzACUQJqZmZmZU5RAmpmZmZlflEAAAAAAAGiUQAAAAAAAYpRAzczMzMy0lEBmZmZmZnqVQJqZmZmZC5ZAmpmZmZkRlkDNzMzMzEqWQAAAAAAAfpZAAAAAAABglkCamZmZmUGWQDMzMzMzM5ZAMzMzMzPLlUAAAAAAAHyWQM3MzMzMnpZAmpmZmZlXlkCamZmZmdWWQAAAAAAA1JZAZmZmZma6lkAAAAAAAJSWQJqZmZmZb5ZAMzMzMzM/lkAzMzMzM2eWQAAAAAAAhJZAAAAAAAB0lkBmZmZmZjqWQAAAAAAAMJZAZmZmZmZalkAzMzMzMyWWQAAAAAAASpZAzczMzMxGlkDNzMzMzLqWQAAAAAAArpZAAAAAAADGlkCamZmZmbeWQGZmZmZm8pZAAAAAAADElkAAAAAAAG6WQJqZmZmZiZZAAAAAAACglkAzMzMzM4uWQJqZmZmZf5ZAAAAAAAD8lkAzMzMzM9+WQAAAAAAADJdAmpmZmZkBl0AzMzMzM2uXQAAAAAAAyJdAMzMzMzPTl0CamZmZme2XQAAAAAAA6JdAmpmZmZnvl0AAAAAAAOiXQDMzMzMzI5hAmpmZmZkjmEAAAAAAADyYQM3MzMzM0pdAAAAAAACsl0AAAAAAAHCXQAAAAAAAYpdAAAAAAABMl0BmZmZmZkaXQDMzMzMzM5dAAAAAAAAQl0CamZmZmV+WQAAAAAAASJZAAAAAAAA8lkAAAAAAAOSVQDMzMzMz/5VAzczMzMwwlkAzMzMzMz2WQGZmZmZm6pVAmpmZmZn3lUA=",
          "dtype": "f8"
         },
         "low": {
          "bdata": "AAAAAADwkkCamZmZmU2TQAAAAAAAN5NAAAAAAABwk0BmZmZmZm+TQGZmZmZmRJNAZmZmZmZbk0AzMzMzM1uTQDMzMzMziJNAZmZmZmbYk0AAAAAAABGUQGZmZmZmCpRAAAAAAADTk0AzMzMzM92TQAAAAAAA1JNAMzMzMzOFk0CamZmZmW+TQDMzMzMzRJNAmpmZmZmkkkBmZmZmZmuRQDMzMzMzLZJAAAAAAABAkkCamZmZmaySQGZmZmZmVJNAAAAAAAA0k0BmZmZmZi6TQAAAAAAAzJNAMzMzMzMZlECamZmZmRWUQDMzMzMzKZRAZmZmZmYglEDNzMzMzKCUQAAAAAAAaJVAAAAAAABklUBmZmZmZgSWQJqZmZmZS5ZAZmZmZmYKlkDNzMzMzOqVQAAAAAAA2JVAAAAAAAB6lUAAAAAAAOCVQJqZmZmZEZZAAAAAAAAelkDNzMzMzBKWQDMzMzMznZZAzczMzMx4lkAzMzMzMzeWQGZmZmZmKJZAmpmZmZnTlUBmZmZmZvqVQGZmZmZmRJZAmpmZmZkXlkDNzMzMzAqWQGZmZmZmApZAzczMzMwGlkBmZmZmZs6VQJqZmZmZ7ZVAZmZmZmb4lUBmZmZmZj6WQAAAAAAAdJZAMzMzMzOVlkAAAAAAAHCWQGZmZmZmjJZAmpmZmZlplkAzMzMzMxmWQJqZmZmZQZZAMzMzMzNHlkDNzMzMzEaWQM3MzMzMRpZAZmZmZmZQlkAAAAAAAIiWQGZmZmZmjJZAAAAAAADSlkBmZmZmZuSWQJqZmZmZY5dAAAAAAABgl0BmZmZmZnCXQM3MzMzMkpdAAAAAAACkl0DNzMzMzLSXQAAAAAAA1JdAzczMzMzol0BmZmZmZpiXQAAAAAAAjpdAMzMzMzNJl0BmZmZmZhyXQJqZmZmZKZdAAAAAAAD+lkCamZmZmQeXQGZmZmZm9JZAZmZmZmY8lkDNzMzMzAqWQJqZmZmZGZZAAAAAAADQlUBmZmZmZqCVQAAAAAAApJVAAAAAAACclUAzMzMzM+WVQM3MzMzMmJVAMzMzMzOhlUA=",
          "dtype": "f8"
         },
         "name": "Candlestick",
         "open": {
          "bdata": "AAAAAAAAk0AAAAAAAHSTQAAAAAAAYJNAAAAAAACok0AzMzMzM7CTQJqZmZmZaJNAZmZmZmZbk0AzMzMzM2STQGZmZmZmj5NAAAAAAADsk0AAAAAAACyUQM3MzMzMbpRAAAAAAAAslECamZmZmfiTQAAAAAAAAJRAZmZmZmbCk0AzMzMzM36TQDMzMzMzRJNAZmZmZmZkk0DNzMzMzLCRQAAAAAAAUJJAAAAAAABGkkCamZmZmaySQAAAAAAAjJNAZmZmZmZIk0DNzMzMzGCTQAAAAAAA2JNAAAAAAABQlEAAAAAAAESUQJqZmZmZMZRAAAAAAABelEAAAAAAAPCUQAAAAAAAbJVAAAAAAADolUAAAAAAABiWQAAAAAAAXJZAAAAAAABclkCamZmZmTOWQGZmZmZm8JVAAAAAAACmlUAAAAAAAOCVQAAAAAAAZpZAAAAAAAAwlkAAAAAAAESWQM3MzMzMtJZAZmZmZmawlkDNzMzMzHiWQJqZmZmZP5ZAzczMzMw0lkBmZmZmZvqVQAAAAAAAYJZAZmZmZmZIlkBmZmZmZjCWQGZmZmZmEJZAAAAAAAAolkBmZmZmZhCWQDMzMzMzOZZAzczMzMwalkAAAAAAAFCWQAAAAAAAhJZAAAAAAADElkAAAAAAAKiWQDMzMzMzl5ZAAAAAAAC2lkAAAAAAAECWQJqZmZmZS5ZAAAAAAACglkAAAAAAAFiWQGZmZmZmWJZAAAAAAABclkAAAAAAALSWQAAAAAAA5JZAAAAAAADglkBmZmZmZvSWQJqZmZmZbZdAMzMzMzOnl0BmZmZmZnKXQJqZmZmZ4ZdAMzMzMzPDl0AAAAAAANCXQGZmZmZm2pdAAAAAAAAAmEDNzMzMzAKYQM3MzMzMvpdAAAAAAACgl0DNzMzMzFCXQM3MzMzMOJdAAAAAAAAEl0CamZmZmT2XQDMzMzMzM5dAAAAAAADklkCamZmZmU2WQAAAAAAASJZAzczMzMwslkCamZmZmduVQDMzMzMzwZVAAAAAAACclUBmZmZmZiiWQGZmZmZmsJVAmpmZmZmrlUA=",
          "dtype": "f8"
         },
         "type": "candlestick",
         "x": [
          "2025-03-07T00:00:00.000000000",
          "2025-03-10T00:00:00.000000000",
          "2025-03-11T00:00:00.000000000",
          "2025-03-12T00:00:00.000000000",
          "2025-03-13T00:00:00.000000000",
          "2025-03-17T00:00:00.000000000",
          "2025-03-18T00:00:00.000000000",
          "2025-03-19T00:00:00.000000000",
          "2025-03-20T00:00:00.000000000",
          "2025-03-21T00:00:00.000000000",
          "2025-03-24T00:00:00.000000000",
          "2025-03-25T00:00:00.000000000",
          "2025-03-26T00:00:00.000000000",
          "2025-03-27T00:00:00.000000000",
          "2025-03-28T00:00:00.000000000",
          "2025-04-01T00:00:00.000000000",
          "2025-04-02T00:00:00.000000000",
          "2025-04-03T00:00:00.000000000",
          "2025-04-04T00:00:00.000000000",
          "2025-04-07T00:00:00.000000000",
          "2025-04-08T00:00:00.000000000",
          "2025-04-09T00:00:00.000000000",
          "2025-04-11T00:00:00.000000000",
          "2025-04-15T00:00:00.000000000",
          "2025-04-16T00:00:00.000000000",
          "2025-04-17T00:00:00.000000000",
          "2025-04-21T00:00:00.000000000",
          "2025-04-22T00:00:00.000000000",
          "2025-04-23T00:00:00.000000000",
          "2025-04-24T00:00:00.000000000",
          "2025-04-25T00:00:00.000000000",
          "2025-04-28T00:00:00.000000000",
          "2025-04-29T00:00:00.000000000",
          "2025-04-30T00:00:00.000000000",
          "2025-05-02T00:00:00.000000000",
          "2025-05-05T00:00:00.000000000",
          "2025-05-06T00:00:00.000000000",
          "2025-05-07T00:00:00.000000000",
          "2025-05-08T00:00:00.000000000",
          "2025-05-09T00:00:00.000000000",
          "2025-05-12T00:00:00.000000000",
          "2025-05-13T00:00:00.000000000",
          "2025-05-14T00:00:00.000000000",
          "2025-05-15T00:00:00.000000000",
          "2025-05-16T00:00:00.000000000",
          "2025-05-19T00:00:00.000000000",
          "2025-05-20T00:00:00.000000000",
          "2025-05-21T00:00:00.000000000",
          "2025-05-22T00:00:00.000000000",
          "2025-05-23T00:00:00.000000000",
          "2025-05-26T00:00:00.000000000",
          "2025-05-27T00:00:00.000000000",
          "2025-05-28T00:00:00.000000000",
          "2025-05-29T00:00:00.000000000",
          "2025-05-30T00:00:00.000000000",
          "2025-06-02T00:00:00.000000000",
          "2025-06-03T00:00:00.000000000",
          "2025-06-04T00:00:00.000000000",
          "2025-06-05T00:00:00.000000000",
          "2025-06-06T00:00:00.000000000",
          "2025-06-09T00:00:00.000000000",
          "2025-06-10T00:00:00.000000000",
          "2025-06-11T00:00:00.000000000",
          "2025-06-12T00:00:00.000000000",
          "2025-06-13T00:00:00.000000000",
          "2025-06-16T00:00:00.000000000",
          "2025-06-17T00:00:00.000000000",
          "2025-06-18T00:00:00.000000000",
          "2025-06-19T00:00:00.000000000",
          "2025-06-20T00:00:00.000000000",
          "2025-06-23T00:00:00.000000000",
          "2025-06-24T00:00:00.000000000",
          "2025-06-25T00:00:00.000000000",
          "2025-06-26T00:00:00.000000000",
          "2025-06-27T00:00:00.000000000",
          "2025-06-30T00:00:00.000000000",
          "2025-07-01T00:00:00.000000000",
          "2025-07-02T00:00:00.000000000",
          "2025-07-03T00:00:00.000000000",
          "2025-07-04T00:00:00.000000000",
          "2025-07-07T00:00:00.000000000",
          "2025-07-08T00:00:00.000000000",
          "2025-07-09T00:00:00.000000000",
          "2025-07-10T00:00:00.000000000",
          "2025-07-11T00:00:00.000000000",
          "2025-07-14T00:00:00.000000000",
          "2025-07-15T00:00:00.000000000",
          "2025-07-16T00:00:00.000000000",
          "2025-07-17T00:00:00.000000000",
          "2025-07-18T00:00:00.000000000",
          "2025-07-21T00:00:00.000000000",
          "2025-07-22T00:00:00.000000000",
          "2025-07-23T00:00:00.000000000",
          "2025-07-24T00:00:00.000000000",
          "2025-07-25T00:00:00.000000000",
          "2025-07-28T00:00:00.000000000",
          "2025-07-29T00:00:00.000000000",
          "2025-07-30T00:00:00.000000000",
          "2025-07-31T00:00:00.000000000",
          "2025-08-01T00:00:00.000000000"
         ],
         "xaxis": "x",
         "yaxis": "y"
        },
        {
         "line": {
          "color": "blue"
         },
         "mode": "lines",
         "name": "RSI",
         "type": "scatter",
         "x": [
          "2025-03-07T00:00:00.000000000",
          "2025-03-10T00:00:00.000000000",
          "2025-03-11T00:00:00.000000000",
          "2025-03-12T00:00:00.000000000",
          "2025-03-13T00:00:00.000000000",
          "2025-03-17T00:00:00.000000000",
          "2025-03-18T00:00:00.000000000",
          "2025-03-19T00:00:00.000000000",
          "2025-03-20T00:00:00.000000000",
          "2025-03-21T00:00:00.000000000",
          "2025-03-24T00:00:00.000000000",
          "2025-03-25T00:00:00.000000000",
          "2025-03-26T00:00:00.000000000",
          "2025-03-27T00:00:00.000000000",
          "2025-03-28T00:00:00.000000000",
          "2025-04-01T00:00:00.000000000",
          "2025-04-02T00:00:00.000000000",
          "2025-04-03T00:00:00.000000000",
          "2025-04-04T00:00:00.000000000",
          "2025-04-07T00:00:00.000000000",
          "2025-04-08T00:00:00.000000000",
          "2025-04-09T00:00:00.000000000",
          "2025-04-11T00:00:00.000000000",
          "2025-04-15T00:00:00.000000000",
          "2025-04-16T00:00:00.000000000",
          "2025-04-17T00:00:00.000000000",
          "2025-04-21T00:00:00.000000000",
          "2025-04-22T00:00:00.000000000",
          "2025-04-23T00:00:00.000000000",
          "2025-04-24T00:00:00.000000000",
          "2025-04-25T00:00:00.000000000",
          "2025-04-28T00:00:00.000000000",
          "2025-04-29T00:00:00.000000000",
          "2025-04-30T00:00:00.000000000",
          "2025-05-02T00:00:00.000000000",
          "2025-05-05T00:00:00.000000000",
          "2025-05-06T00:00:00.000000000",
          "2025-05-07T00:00:00.000000000",
          "2025-05-08T00:00:00.000000000",
          "2025-05-09T00:00:00.000000000",
          "2025-05-12T00:00:00.000000000",
          "2025-05-13T00:00:00.000000000",
          "2025-05-14T00:00:00.000000000",
          "2025-05-15T00:00:00.000000000",
          "2025-05-16T00:00:00.000000000",
          "2025-05-19T00:00:00.000000000",
          "2025-05-20T00:00:00.000000000",
          "2025-05-21T00:00:00.000000000",
          "2025-05-22T00:00:00.000000000",
          "2025-05-23T00:00:00.000000000",
          "2025-05-26T00:00:00.000000000",
          "2025-05-27T00:00:00.000000000",
          "2025-05-28T00:00:00.000000000",
          "2025-05-29T00:00:00.000000000",
          "2025-05-30T00:00:00.000000000",
          "2025-06-02T00:00:00.000000000",
          "2025-06-03T00:00:00.000000000",
          "2025-06-04T00:00:00.000000000",
          "2025-06-05T00:00:00.000000000",
          "2025-06-06T00:00:00.000000000",
          "2025-06-09T00:00:00.000000000",
          "2025-06-10T00:00:00.000000000",
          "2025-06-11T00:00:00.000000000",
          "2025-06-12T00:00:00.000000000",
          "2025-06-13T00:00:00.000000000",
          "2025-06-16T00:00:00.000000000",
          "2025-06-17T00:00:00.000000000",
          "2025-06-18T00:00:00.000000000",
          "2025-06-19T00:00:00.000000000",
          "2025-06-20T00:00:00.000000000",
          "2025-06-23T00:00:00.000000000",
          "2025-06-24T00:00:00.000000000",
          "2025-06-25T00:00:00.000000000",
          "2025-06-26T00:00:00.000000000",
          "2025-06-27T00:00:00.000000000",
          "2025-06-30T00:00:00.000000000",
          "2025-07-01T00:00:00.000000000",
          "2025-07-02T00:00:00.000000000",
          "2025-07-03T00:00:00.000000000",
          "2025-07-04T00:00:00.000000000",
          "2025-07-07T00:00:00.000000000",
          "2025-07-08T00:00:00.000000000",
          "2025-07-09T00:00:00.000000000",
          "2025-07-10T00:00:00.000000000",
          "2025-07-11T00:00:00.000000000",
          "2025-07-14T00:00:00.000000000",
          "2025-07-15T00:00:00.000000000",
          "2025-07-16T00:00:00.000000000",
          "2025-07-17T00:00:00.000000000",
          "2025-07-18T00:00:00.000000000",
          "2025-07-21T00:00:00.000000000",
          "2025-07-22T00:00:00.000000000",
          "2025-07-23T00:00:00.000000000",
          "2025-07-24T00:00:00.000000000",
          "2025-07-25T00:00:00.000000000",
          "2025-07-28T00:00:00.000000000",
          "2025-07-29T00:00:00.000000000",
          "2025-07-30T00:00:00.000000000",
          "2025-07-31T00:00:00.000000000",
          "2025-08-01T00:00:00.000000000"
         ],
         "xaxis": "x2",
         "y": {
          "bdata": "FO+/4WilTECjR7twvANLQCvzMwehEExAQN01HuEvTUAO944rlMBLQKxot5sWX0pArGi3mxZfSkC7LazIHo9LQA23I2jwX05ANUpTb7Q0T0CE9EdGtetQQChv44uv1E5ACNKTrwjHTEATM6/HMGRNQCDusbCy2UxAfW5YjsI4SUDiy+jz4gBJQONvluqonUhAAxM3rBrwQkCVHffqjQo/QNUWfTvXI0JA/jogs0WhQkBFucmd+FZHQG0UZxxszUlAbDuSHKm0SUDUDduyxF5NQKB7t1FbMU9A3EOFXsKYTkBWC63PgWFPQERjCvzthk9AKbABWxJUT0DqIAiVpERSQJopPrmNElNA/223G1IzU0Dc0Y1n2o1TQBgU6Y6J0VNAbTEso3rsUkAHgow1/7BRQGDi9RjDuVFALwvweGXRTkCqSa2F6oFRQOBqwnXEK1BA5ACO4+d2UEAnBGYvl2VRQG6Eb0FZdlFAegq0XJFiUEDeJ5UwtadOQMek9YONB09AQaIPIZV5TEBv0aZ34gdOQKa3KqaFuE5AS5QX2dwBTUAWkiUmNsxLQKMEzp36UExA5BuVYPCnTECXRcqTVJNLQBWNiDFLW0pALYDH2OuXTEBqIHNGhKlOQHUYcIJSx05A/QPKzWNcT0AwIO6UuH1NQFhq8qdhvU5AANS0ryNjTUCqXACFx/xKQHmLAzXNXExAjtsFMiAyS0CTgBxnGf9KQPfrtuhHg0tA8nahvS39T0A23XpFjyROQGkKNPMc/kxAQ7c7+CMgT0BmRPPdLwpRQNc2Lj0j5lFAgAax0eF8UEDRFkvBnKhRQP4i6qKgzFBAx1wxLke1UEASGzBp+yRRQF64nk4HwlFABnksMWVbUUCLthRhZRtPQMGD5qYVxk5A/nHO0n74SkD8LueGZjdJQKapvJ1seElA2+stTZGASUBQyHlee/ZHQNDloUMx5UdAEWmXHgWTQUClmRgT2QxAQGkOQL+IQ0JA6JdnDNQsQEBvGhSkr2o+QH7pDX1wtz1AwtqigXwtREDBf1WxHm1DQPvUeS0lcEFADuSSzakOQkA=",
          "dtype": "f8"
         },
         "yaxis": "y2"
        }
       ],
       "layout": {
        "annotations": [
         {
          "font": {
           "size": 16
          },
          "showarrow": false,
          "text": "Candlesticks Chart",
          "x": 0.5,
          "xanchor": "center",
          "xref": "paper",
          "y": 0.9999999999999999,
          "yanchor": "bottom",
          "yref": "paper"
         },
         {
          "font": {
           "size": 16
          },
          "showarrow": false,
          "text": "RSI Indicator",
          "x": 0.5,
          "xanchor": "center",
          "xref": "paper",
          "y": 0.285,
          "yanchor": "bottom",
          "yref": "paper"
         },
         {
          "showarrow": false,
          "text": "Overbought (70)",
          "x": 1,
          "xanchor": "right",
          "xref": "x2 domain",
          "y": 70,
          "yanchor": "bottom",
          "yref": "y2"
         },
         {
          "showarrow": false,
          "text": "Oversold (30)",
          "x": 1,
          "xanchor": "right",
          "xref": "x2 domain",
          "y": 30,
          "yanchor": "bottom",
          "yref": "y2"
         }
        ],
        "height": 800,
        "shapes": [
         {
          "line": {
           "color": "red",
           "dash": "dash"
          },
          "type": "line",
          "x0": 0,
          "x1": 1,
          "xref": "x2 domain",
          "y0": 70,
          "y1": 70,
          "yref": "y2"
         },
         {
          "line": {
           "color": "green",
           "dash": "dash"
          },
          "type": "line",
          "x0": 0,
          "x1": 1,
          "xref": "x2 domain",
          "y0": 30,
          "y1": 30,
          "yref": "y2"
         }
        ],
        "showlegend": false,
        "template": {
         "data": {
          "bar": [
           {
            "error_x": {
             "color": "#2a3f5f"
            },
            "error_y": {
             "color": "#2a3f5f"
            },
            "marker": {
             "line": {
              "color": "#E5ECF6",
              "width": 0.5
             },
             "pattern": {
              "fillmode": "overlay",
              "size": 10,
              "solidity": 0.2
             }
            },
            "type": "bar"
           }
          ],
          "barpolar": [
           {
            "marker": {
             "line": {
              "color": "#E5ECF6",
              "width": 0.5
             },
             "pattern": {
              "fillmode": "overlay",
              "size": 10,
              "solidity": 0.2
             }
            },
            "type": "barpolar"
           }
          ],
          "carpet": [
           {
            "aaxis": {
             "endlinecolor": "#2a3f5f",
             "gridcolor": "white",
             "linecolor": "white",
             "minorgridcolor": "white",
             "startlinecolor": "#2a3f5f"
            },
            "baxis": {
             "endlinecolor": "#2a3f5f",
             "gridcolor": "white",
             "linecolor": "white",
             "minorgridcolor": "white",
             "startlinecolor": "#2a3f5f"
            },
            "type": "carpet"
           }
          ],
          "choropleth": [
           {
            "colorbar": {
             "outlinewidth": 0,
             "ticks": ""
            },
            "type": "choropleth"
           }
          ],
          "contour": [
           {
            "colorbar": {
             "outlinewidth": 0,
             "ticks": ""
            },
            "colorscale": [
             [
              0,
              "#0d0887"
             ],
             [
              0.1111111111111111,
              "#46039f"
             ],
             [
              0.2222222222222222,
              "#7201a8"
             ],
             [
              0.3333333333333333,
              "#9c179e"
             ],
             [
              0.4444444444444444,
              "#bd3786"
             ],
             [
              0.5555555555555556,
              "#d8576b"
             ],
             [
              0.6666666666666666,
              "#ed7953"
             ],
             [
              0.7777777777777778,
              "#fb9f3a"
             ],
             [
              0.8888888888888888,
              "#fdca26"
             ],
             [
              1,
              "#f0f921"
             ]
            ],
            "type": "contour"
           }
          ],
          "contourcarpet": [
           {
            "colorbar": {
             "outlinewidth": 0,
             "ticks": ""
            },
            "type": "contourcarpet"
           }
          ],
          "heatmap": [
           {
            "colorbar": {
             "outlinewidth": 0,
             "ticks": ""
            },
            "colorscale": [
             [
              0,
              "#0d0887"
             ],
             [
              0.1111111111111111,
              "#46039f"
             ],
             [
              0.2222222222222222,
              "#7201a8"
             ],
             [
              0.3333333333333333,
              "#9c179e"
             ],
             [
              0.4444444444444444,
              "#bd3786"
             ],
             [
              0.5555555555555556,
              "#d8576b"
             ],
             [
              0.6666666666666666,
              "#ed7953"
             ],
             [
              0.7777777777777778,
              "#fb9f3a"
             ],
             [
              0.8888888888888888,
              "#fdca26"
             ],
             [
              1,
              "#f0f921"
             ]
            ],
            "type": "heatmap"
           }
          ],
          "histogram": [
           {
            "marker": {
             "pattern": {
              "fillmode": "overlay",
              "size": 10,
              "solidity": 0.2
             }
            },
            "type": "histogram"
           }
          ],
          "histogram2d": [
           {
            "colorbar": {
             "outlinewidth": 0,
             "ticks": ""
            },
            "colorscale": [
             [
              0,
              "#0d0887"
             ],
             [
              0.1111111111111111,
              "#46039f"
             ],
             [
              0.2222222222222222,
              "#7201a8"
             ],
             [
              0.3333333333333333,
              "#9c179e"
             ],
             [
              0.4444444444444444,
              "#bd3786"
             ],
             [
              0.5555555555555556,
              "#d8576b"
             ],
             [
              0.6666666666666666,
              "#ed7953"
             ],
             [
              0.7777777777777778,
              "#fb9f3a"
             ],
             [
              0.8888888888888888,
              "#fdca26"
             ],
             [
              1,
              "#f0f921"
             ]
            ],
            "type": "histogram2d"
           }
          ],
          "histogram2dcontour": [
           {
            "colorbar": {
             "outlinewidth": 0,
             "ticks": ""
            },
            "colorscale": [
             [
              0,
              "#0d0887"
             ],
             [
              0.1111111111111111,
              "#46039f"
             ],
             [
              0.2222222222222222,
              "#7201a8"
             ],
             [
              0.3333333333333333,
              "#9c179e"
             ],
             [
              0.4444444444444444,
              "#bd3786"
             ],
             [
              0.5555555555555556,
              "#d8576b"
             ],
             [
              0.6666666666666666,
              "#ed7953"
             ],
             [
              0.7777777777777778,
              "#fb9f3a"
             ],
             [
              0.8888888888888888,
              "#fdca26"
             ],
             [
              1,
              "#f0f921"
             ]
            ],
            "type": "histogram2dcontour"
           }
          ],
          "mesh3d": [
           {
            "colorbar": {
             "outlinewidth": 0,
             "ticks": ""
            },
            "type": "mesh3d"
           }
          ],
          "parcoords": [
           {
            "line": {
             "colorbar": {
              "outlinewidth": 0,
              "ticks": ""
             }
            },
            "type": "parcoords"
           }
          ],
          "pie": [
           {
            "automargin": true,
            "type": "pie"
           }
          ],
          "scatter": [
           {
            "fillpattern": {
             "fillmode": "overlay",
             "size": 10,
             "solidity": 0.2
            },
            "type": "scatter"
           }
          ],
          "scatter3d": [
           {
            "line": {
             "colorbar": {
              "outlinewidth": 0,
              "ticks": ""
             }
            },
            "marker": {
             "colorbar": {
              "outlinewidth": 0,
              "ticks": ""
             }
            },
            "type": "scatter3d"
           }
          ],
          "scattercarpet": [
           {
            "marker": {
             "colorbar": {
              "outlinewidth": 0,
              "ticks": ""
             }
            },
            "type": "scattercarpet"
           }
          ],
          "scattergeo": [
           {
            "marker": {
             "colorbar": {
              "outlinewidth": 0,
              "ticks": ""
             }
            },
            "type": "scattergeo"
           }
          ],
          "scattergl": [
           {
            "marker": {
             "colorbar": {
              "outlinewidth": 0,
              "ticks": ""
             }
            },
            "type": "scattergl"
           }
          ],
          "scattermap": [
           {
            "marker": {
             "colorbar": {
              "outlinewidth": 0,
              "ticks": ""
             }
            },
            "type": "scattermap"
           }
          ],
          "scattermapbox": [
           {
            "marker": {
             "colorbar": {
              "outlinewidth": 0,
              "ticks": ""
             }
            },
            "type": "scattermapbox"
           }
          ],
          "scatterpolar": [
           {
            "marker": {
             "colorbar": {
              "outlinewidth": 0,
              "ticks": ""
             }
            },
            "type": "scatterpolar"
           }
          ],
          "scatterpolargl": [
           {
            "marker": {
             "colorbar": {
              "outlinewidth": 0,
              "ticks": ""
             }
            },
            "type": "scatterpolargl"
           }
          ],
          "scatterternary": [
           {
            "marker": {
             "colorbar": {
              "outlinewidth": 0,
              "ticks": ""
             }
            },
            "type": "scatterternary"
           }
          ],
          "surface": [
           {
            "colorbar": {
             "outlinewidth": 0,
             "ticks": ""
            },
            "colorscale": [
             [
              0,
              "#0d0887"
             ],
             [
              0.1111111111111111,
              "#46039f"
             ],
             [
              0.2222222222222222,
              "#7201a8"
             ],
             [
              0.3333333333333333,
              "#9c179e"
             ],
             [
              0.4444444444444444,
              "#bd3786"
             ],
             [
              0.5555555555555556,
              "#d8576b"
             ],
             [
              0.6666666666666666,
              "#ed7953"
             ],
             [
              0.7777777777777778,
              "#fb9f3a"
             ],
             [
              0.8888888888888888,
              "#fdca26"
             ],
             [
              1,
              "#f0f921"
             ]
            ],
            "type": "surface"
           }
          ],
          "table": [
           {
            "cells": {
             "fill": {
              "color": "#EBF0F8"
             },
             "line": {
              "color": "white"
             }
            },
            "header": {
             "fill": {
              "color": "#C8D4E3"
             },
             "line": {
              "color": "white"
             }
            },
            "type": "table"
           }
          ]
         },
         "layout": {
          "annotationdefaults": {
           "arrowcolor": "#2a3f5f",
           "arrowhead": 0,
           "arrowwidth": 1
          },
          "autotypenumbers": "strict",
          "coloraxis": {
           "colorbar": {
            "outlinewidth": 0,
            "ticks": ""
           }
          },
          "colorscale": {
           "diverging": [
            [
             0,
             "#8e0152"
            ],
            [
             0.1,
             "#c51b7d"
            ],
            [
             0.2,
             "#de77ae"
            ],
            [
             0.3,
             "#f1b6da"
            ],
            [
             0.4,
             "#fde0ef"
            ],
            [
             0.5,
             "#f7f7f7"
            ],
            [
             0.6,
             "#e6f5d0"
            ],
            [
             0.7,
             "#b8e186"
            ],
            [
             0.8,
             "#7fbc41"
            ],
            [
             0.9,
             "#4d9221"
            ],
            [
             1,
             "#276419"
            ]
           ],
           "sequential": [
            [
             0,
             "#0d0887"
            ],
            [
             0.1111111111111111,
             "#46039f"
            ],
            [
             0.2222222222222222,
             "#7201a8"
            ],
            [
             0.3333333333333333,
             "#9c179e"
            ],
            [
             0.4444444444444444,
             "#bd3786"
            ],
            [
             0.5555555555555556,
             "#d8576b"
            ],
            [
             0.6666666666666666,
             "#ed7953"
            ],
            [
             0.7777777777777778,
             "#fb9f3a"
            ],
            [
             0.8888888888888888,
             "#fdca26"
            ],
            [
             1,
             "#f0f921"
            ]
           ],
           "sequentialminus": [
            [
             0,
             "#0d0887"
            ],
            [
             0.1111111111111111,
             "#46039f"
            ],
            [
             0.2222222222222222,
             "#7201a8"
            ],
            [
             0.3333333333333333,
             "#9c179e"
            ],
            [
             0.4444444444444444,
             "#bd3786"
            ],
            [
             0.5555555555555556,
             "#d8576b"
            ],
            [
             0.6666666666666666,
             "#ed7953"
            ],
            [
             0.7777777777777778,
             "#fb9f3a"
            ],
            [
             0.8888888888888888,
             "#fdca26"
            ],
            [
             1,
             "#f0f921"
            ]
           ]
          },
          "colorway": [
           "#636efa",
           "#EF553B",
           "#00cc96",
           "#ab63fa",
           "#FFA15A",
           "#19d3f3",
           "#FF6692",
           "#B6E880",
           "#FF97FF",
           "#FECB52"
          ],
          "font": {
           "color": "#2a3f5f"
          },
          "geo": {
           "bgcolor": "white",
           "lakecolor": "white",
           "landcolor": "#E5ECF6",
           "showlakes": true,
           "showland": true,
           "subunitcolor": "white"
          },
          "hoverlabel": {
           "align": "left"
          },
          "hovermode": "closest",
          "mapbox": {
           "style": "light"
          },
          "paper_bgcolor": "white",
          "plot_bgcolor": "#E5ECF6",
          "polar": {
           "angularaxis": {
            "gridcolor": "white",
            "linecolor": "white",
            "ticks": ""
           },
           "bgcolor": "#E5ECF6",
           "radialaxis": {
            "gridcolor": "white",
            "linecolor": "white",
            "ticks": ""
           }
          },
          "scene": {
           "xaxis": {
            "backgroundcolor": "#E5ECF6",
            "gridcolor": "white",
            "gridwidth": 2,
            "linecolor": "white",
            "showbackground": true,
            "ticks": "",
            "zerolinecolor": "white"
           },
           "yaxis": {
            "backgroundcolor": "#E5ECF6",
            "gridcolor": "white",
            "gridwidth": 2,
            "linecolor": "white",
            "showbackground": true,
            "ticks": "",
            "zerolinecolor": "white"
           },
           "zaxis": {
            "backgroundcolor": "#E5ECF6",
            "gridcolor": "white",
            "gridwidth": 2,
            "linecolor": "white",
            "showbackground": true,
            "ticks": "",
            "zerolinecolor": "white"
           }
          },
          "shapedefaults": {
           "line": {
            "color": "#2a3f5f"
           }
          },
          "ternary": {
           "aaxis": {
            "gridcolor": "white",
            "linecolor": "white",
            "ticks": ""
           },
           "baxis": {
            "gridcolor": "white",
            "linecolor": "white",
            "ticks": ""
           },
           "bgcolor": "#E5ECF6",
           "caxis": {
            "gridcolor": "white",
            "linecolor": "white",
            "ticks": ""
           }
          },
          "title": {
           "x": 0.05
          },
          "xaxis": {
           "automargin": true,
           "gridcolor": "white",
           "linecolor": "white",
           "ticks": "",
           "title": {
            "standoff": 15
           },
           "zerolinecolor": "white",
           "zerolinewidth": 2
          },
          "yaxis": {
           "automargin": true,
           "gridcolor": "white",
           "linecolor": "white",
           "ticks": "",
           "title": {
            "standoff": 15
           },
           "zerolinecolor": "white",
           "zerolinewidth": 2
          }
         }
        },
        "title": {
         "text": "RELIANCE - Candlestick with RSI (14)"
        },
        "xaxis": {
         "anchor": "y",
         "domain": [
          0,
          1
         ],
         "matches": "x2",
         "rangeslider": {
          "visible": false
         },
         "showticklabels": false
        },
        "xaxis2": {
         "anchor": "y2",
         "domain": [
          0,
          1
         ]
        },
        "yaxis": {
         "anchor": "x",
         "domain": [
          0.33499999999999996,
          0.9999999999999999
         ]
        },
        "yaxis2": {
         "anchor": "x2",
         "domain": [
          0,
          0.285
         ]
        }
       }
      }
     },
     "metadata": {},
     "output_type": "display_data"
    }
   ],
   "source": [
    "plot_candlesticks_RSI_chart(df)"
   ]
  },
  {
   "cell_type": "code",
   "execution_count": 4,
   "id": "cc5f72e4",
   "metadata": {},
   "outputs": [
    {
     "data": {
      "application/vnd.plotly.v1+json": {
       "config": {
        "plotlyServerURL": "https://plot.ly"
       },
       "data": [
        {
         "close": {
          "bdata": "MzMzMzOHk0CamZmZmVmTQDMzMzMzfZNAMzMzMzOkk0CamZmZmX+TQGZmZmZmW5NAZmZmZmZbk0CamZmZmXyTQJqZmZmZ1JNAZmZmZmbxk0BmZmZmZliUQM3MzMzMFZRAMzMzMzPkk0DNzMzMzPiTQGZmZmZm7JNAZmZmZmaSk0CamZmZmYyTQM3MzMzMgpNAzczMzMzSkkDNzMzMzDaSQM3MzMzMeJJAZmZmZmaFkkDNzMzMzAuTQGZmZmZmYJNAMzMzMzNdk0AAAAAAAOqTQAAAAAAAPpRAzczMzMwslEAAAAAAAFCUQGZmZmZmVpRAmpmZmZlRlEAzMzMzM2OVQM3MzMzM3pVAAAAAAAD0lUAzMzMzMy+WQDMzMzMzXZZAmpmZmZkzlkAAAAAAAPiVQAAAAAAA/JVAzczMzMyElUAAAAAAAHKWQM3MzMzMHpZAmpmZmZlBlkDNzMzMzLiWQJqZmZmZwZZAMzMzMzODlkBmZmZmZkKWQM3MzMzMVJZAmpmZmZkFlkAzMzMzM0uWQDMzMzMza5ZAZmZmZmY4lkCamZmZmROWQDMzMzMzJ5ZAmpmZmZkzlkDNzMzMzBaWQAAAAAAA9pVAAAAAAAA+lkCamZmZmYmWQAAAAAAAjpZAMzMzMzOjlkAAAAAAAHqWQJqZmZmZo5ZAZmZmZmaGlkCamZmZmU+WQDMzMzMzd5ZAzczMzMxclkBmZmZmZliWQDMzMzMzZZZAzczMzMzolkAzMzMzM8OWQDMzMzMzq5ZAMzMzMzPtlkAzMzMzM12XQJqZmZmZrZdAZmZmZmZyl0CamZmZmeGXQDMzMzMzu5dAMzMzMzO3l0AzMzMzM92XQAAAAAAAFphAZmZmZmYGmEAAAAAAALyXQM3MzMzMtJdAzczMzMxcl0DNzMzMzC6XQJqZmZmZNZdAZmZmZmY2l0CamZmZmRGXQAAAAAAAEJdAZmZmZmZSlkAzMzMzMxOWQGZmZmZmQpZAmpmZmZnrlUDNzMzMzL6VQGZmZmZmrpVAZmZmZmYklkBmZmZmZgiWQM3MzMzMuJVAzczMzMzGlUA=",
          "dtype": "f8"
         },
         "high": {
          "bdata": "MzMzMzObk0AAAAAAAKiTQAAAAAAAhpNAAAAAAAC8k0CamZmZmcCTQJqZmZmZpZNAZmZmZmZbk0AAAAAAAJWTQAAAAAAA5JNAAAAAAAAElEAAAAAAAGiUQM3MzMzMbpRAMzMzMzM3lEAAAAAAABSUQAAAAAAAP5RAmpmZmZn3k0AzMzMzM56TQDMzMzMzj5NAzczMzMx1k0AAAAAAAE2SQGZmZmZmspJAMzMzMzOXkkCamZmZmRqTQAAAAAAAjJNAmpmZmZljk0DNzMzMzACUQJqZmZmZU5RAmpmZmZlflEAAAAAAAGiUQAAAAAAAYpRAzczMzMy0lEBmZmZmZnqVQJqZmZmZC5ZAmpmZmZkRlkDNzMzMzEqWQAAAAAAAfpZAAAAAAABglkCamZmZmUGWQDMzMzMzM5ZAMzMzMzPLlUAAAAAAAHyWQM3MzMzMnpZAmpmZmZlXlkCamZmZmdWWQAAAAAAA1JZAZmZmZma6lkAAAAAAAJSWQJqZmZmZb5ZAMzMzMzM/lkAzMzMzM2eWQAAAAAAAhJZAAAAAAAB0lkBmZmZmZjqWQAAAAAAAMJZAZmZmZmZalkAzMzMzMyWWQAAAAAAASpZAzczMzMxGlkDNzMzMzLqWQAAAAAAArpZAAAAAAADGlkCamZmZmbeWQGZmZmZm8pZAAAAAAADElkAAAAAAAG6WQJqZmZmZiZZAAAAAAACglkAzMzMzM4uWQJqZmZmZf5ZAAAAAAAD8lkAzMzMzM9+WQAAAAAAADJdAmpmZmZkBl0AzMzMzM2uXQAAAAAAAyJdAMzMzMzPTl0CamZmZme2XQAAAAAAA6JdAmpmZmZnvl0AAAAAAAOiXQDMzMzMzI5hAmpmZmZkjmEAAAAAAADyYQM3MzMzM0pdAAAAAAACsl0AAAAAAAHCXQAAAAAAAYpdAAAAAAABMl0BmZmZmZkaXQDMzMzMzM5dAAAAAAAAQl0CamZmZmV+WQAAAAAAASJZAAAAAAAA8lkAAAAAAAOSVQDMzMzMz/5VAzczMzMwwlkAzMzMzMz2WQGZmZmZm6pVAmpmZmZn3lUA=",
          "dtype": "f8"
         },
         "low": {
          "bdata": "AAAAAADwkkCamZmZmU2TQAAAAAAAN5NAAAAAAABwk0BmZmZmZm+TQGZmZmZmRJNAZmZmZmZbk0AzMzMzM1uTQDMzMzMziJNAZmZmZmbYk0AAAAAAABGUQGZmZmZmCpRAAAAAAADTk0AzMzMzM92TQAAAAAAA1JNAMzMzMzOFk0CamZmZmW+TQDMzMzMzRJNAmpmZmZmkkkBmZmZmZmuRQDMzMzMzLZJAAAAAAABAkkCamZmZmaySQGZmZmZmVJNAAAAAAAA0k0BmZmZmZi6TQAAAAAAAzJNAMzMzMzMZlECamZmZmRWUQDMzMzMzKZRAZmZmZmYglEDNzMzMzKCUQAAAAAAAaJVAAAAAAABklUBmZmZmZgSWQJqZmZmZS5ZAZmZmZmYKlkDNzMzMzOqVQAAAAAAA2JVAAAAAAAB6lUAAAAAAAOCVQJqZmZmZEZZAAAAAAAAelkDNzMzMzBKWQDMzMzMznZZAzczMzMx4lkAzMzMzMzeWQGZmZmZmKJZAmpmZmZnTlUBmZmZmZvqVQGZmZmZmRJZAmpmZmZkXlkDNzMzMzAqWQGZmZmZmApZAzczMzMwGlkBmZmZmZs6VQJqZmZmZ7ZVAZmZmZmb4lUBmZmZmZj6WQAAAAAAAdJZAMzMzMzOVlkAAAAAAAHCWQGZmZmZmjJZAmpmZmZlplkAzMzMzMxmWQJqZmZmZQZZAMzMzMzNHlkDNzMzMzEaWQM3MzMzMRpZAZmZmZmZQlkAAAAAAAIiWQGZmZmZmjJZAAAAAAADSlkBmZmZmZuSWQJqZmZmZY5dAAAAAAABgl0BmZmZmZnCXQM3MzMzMkpdAAAAAAACkl0DNzMzMzLSXQAAAAAAA1JdAzczMzMzol0BmZmZmZpiXQAAAAAAAjpdAMzMzMzNJl0BmZmZmZhyXQJqZmZmZKZdAAAAAAAD+lkCamZmZmQeXQGZmZmZm9JZAZmZmZmY8lkDNzMzMzAqWQJqZmZmZGZZAAAAAAADQlUBmZmZmZqCVQAAAAAAApJVAAAAAAACclUAzMzMzM+WVQM3MzMzMmJVAMzMzMzOhlUA=",
          "dtype": "f8"
         },
         "name": "Candlestick",
         "open": {
          "bdata": "AAAAAAAAk0AAAAAAAHSTQAAAAAAAYJNAAAAAAACok0AzMzMzM7CTQJqZmZmZaJNAZmZmZmZbk0AzMzMzM2STQGZmZmZmj5NAAAAAAADsk0AAAAAAACyUQM3MzMzMbpRAAAAAAAAslECamZmZmfiTQAAAAAAAAJRAZmZmZmbCk0AzMzMzM36TQDMzMzMzRJNAZmZmZmZkk0DNzMzMzLCRQAAAAAAAUJJAAAAAAABGkkCamZmZmaySQAAAAAAAjJNAZmZmZmZIk0DNzMzMzGCTQAAAAAAA2JNAAAAAAABQlEAAAAAAAESUQJqZmZmZMZRAAAAAAABelEAAAAAAAPCUQAAAAAAAbJVAAAAAAADolUAAAAAAABiWQAAAAAAAXJZAAAAAAABclkCamZmZmTOWQGZmZmZm8JVAAAAAAACmlUAAAAAAAOCVQAAAAAAAZpZAAAAAAAAwlkAAAAAAAESWQM3MzMzMtJZAZmZmZmawlkDNzMzMzHiWQJqZmZmZP5ZAzczMzMw0lkBmZmZmZvqVQAAAAAAAYJZAZmZmZmZIlkBmZmZmZjCWQGZmZmZmEJZAAAAAAAAolkBmZmZmZhCWQDMzMzMzOZZAzczMzMwalkAAAAAAAFCWQAAAAAAAhJZAAAAAAADElkAAAAAAAKiWQDMzMzMzl5ZAAAAAAAC2lkAAAAAAAECWQJqZmZmZS5ZAAAAAAACglkAAAAAAAFiWQGZmZmZmWJZAAAAAAABclkAAAAAAALSWQAAAAAAA5JZAAAAAAADglkBmZmZmZvSWQJqZmZmZbZdAMzMzMzOnl0BmZmZmZnKXQJqZmZmZ4ZdAMzMzMzPDl0AAAAAAANCXQGZmZmZm2pdAAAAAAAAAmEDNzMzMzAKYQM3MzMzMvpdAAAAAAACgl0DNzMzMzFCXQM3MzMzMOJdAAAAAAAAEl0CamZmZmT2XQDMzMzMzM5dAAAAAAADklkCamZmZmU2WQAAAAAAASJZAzczMzMwslkCamZmZmduVQDMzMzMzwZVAAAAAAACclUBmZmZmZiiWQGZmZmZmsJVAmpmZmZmrlUA=",
          "dtype": "f8"
         },
         "type": "candlestick",
         "x": [
          "2025-03-07T00:00:00.000000000",
          "2025-03-10T00:00:00.000000000",
          "2025-03-11T00:00:00.000000000",
          "2025-03-12T00:00:00.000000000",
          "2025-03-13T00:00:00.000000000",
          "2025-03-17T00:00:00.000000000",
          "2025-03-18T00:00:00.000000000",
          "2025-03-19T00:00:00.000000000",
          "2025-03-20T00:00:00.000000000",
          "2025-03-21T00:00:00.000000000",
          "2025-03-24T00:00:00.000000000",
          "2025-03-25T00:00:00.000000000",
          "2025-03-26T00:00:00.000000000",
          "2025-03-27T00:00:00.000000000",
          "2025-03-28T00:00:00.000000000",
          "2025-04-01T00:00:00.000000000",
          "2025-04-02T00:00:00.000000000",
          "2025-04-03T00:00:00.000000000",
          "2025-04-04T00:00:00.000000000",
          "2025-04-07T00:00:00.000000000",
          "2025-04-08T00:00:00.000000000",
          "2025-04-09T00:00:00.000000000",
          "2025-04-11T00:00:00.000000000",
          "2025-04-15T00:00:00.000000000",
          "2025-04-16T00:00:00.000000000",
          "2025-04-17T00:00:00.000000000",
          "2025-04-21T00:00:00.000000000",
          "2025-04-22T00:00:00.000000000",
          "2025-04-23T00:00:00.000000000",
          "2025-04-24T00:00:00.000000000",
          "2025-04-25T00:00:00.000000000",
          "2025-04-28T00:00:00.000000000",
          "2025-04-29T00:00:00.000000000",
          "2025-04-30T00:00:00.000000000",
          "2025-05-02T00:00:00.000000000",
          "2025-05-05T00:00:00.000000000",
          "2025-05-06T00:00:00.000000000",
          "2025-05-07T00:00:00.000000000",
          "2025-05-08T00:00:00.000000000",
          "2025-05-09T00:00:00.000000000",
          "2025-05-12T00:00:00.000000000",
          "2025-05-13T00:00:00.000000000",
          "2025-05-14T00:00:00.000000000",
          "2025-05-15T00:00:00.000000000",
          "2025-05-16T00:00:00.000000000",
          "2025-05-19T00:00:00.000000000",
          "2025-05-20T00:00:00.000000000",
          "2025-05-21T00:00:00.000000000",
          "2025-05-22T00:00:00.000000000",
          "2025-05-23T00:00:00.000000000",
          "2025-05-26T00:00:00.000000000",
          "2025-05-27T00:00:00.000000000",
          "2025-05-28T00:00:00.000000000",
          "2025-05-29T00:00:00.000000000",
          "2025-05-30T00:00:00.000000000",
          "2025-06-02T00:00:00.000000000",
          "2025-06-03T00:00:00.000000000",
          "2025-06-04T00:00:00.000000000",
          "2025-06-05T00:00:00.000000000",
          "2025-06-06T00:00:00.000000000",
          "2025-06-09T00:00:00.000000000",
          "2025-06-10T00:00:00.000000000",
          "2025-06-11T00:00:00.000000000",
          "2025-06-12T00:00:00.000000000",
          "2025-06-13T00:00:00.000000000",
          "2025-06-16T00:00:00.000000000",
          "2025-06-17T00:00:00.000000000",
          "2025-06-18T00:00:00.000000000",
          "2025-06-19T00:00:00.000000000",
          "2025-06-20T00:00:00.000000000",
          "2025-06-23T00:00:00.000000000",
          "2025-06-24T00:00:00.000000000",
          "2025-06-25T00:00:00.000000000",
          "2025-06-26T00:00:00.000000000",
          "2025-06-27T00:00:00.000000000",
          "2025-06-30T00:00:00.000000000",
          "2025-07-01T00:00:00.000000000",
          "2025-07-02T00:00:00.000000000",
          "2025-07-03T00:00:00.000000000",
          "2025-07-04T00:00:00.000000000",
          "2025-07-07T00:00:00.000000000",
          "2025-07-08T00:00:00.000000000",
          "2025-07-09T00:00:00.000000000",
          "2025-07-10T00:00:00.000000000",
          "2025-07-11T00:00:00.000000000",
          "2025-07-14T00:00:00.000000000",
          "2025-07-15T00:00:00.000000000",
          "2025-07-16T00:00:00.000000000",
          "2025-07-17T00:00:00.000000000",
          "2025-07-18T00:00:00.000000000",
          "2025-07-21T00:00:00.000000000",
          "2025-07-22T00:00:00.000000000",
          "2025-07-23T00:00:00.000000000",
          "2025-07-24T00:00:00.000000000",
          "2025-07-25T00:00:00.000000000",
          "2025-07-28T00:00:00.000000000",
          "2025-07-29T00:00:00.000000000",
          "2025-07-30T00:00:00.000000000",
          "2025-07-31T00:00:00.000000000",
          "2025-08-01T00:00:00.000000000"
         ],
         "xaxis": "x",
         "yaxis": "y"
        },
        {
         "line": {
          "color": "blue"
         },
         "mode": "lines",
         "name": "RSI",
         "type": "scatter",
         "x": [
          "2025-03-07T00:00:00.000000000",
          "2025-03-10T00:00:00.000000000",
          "2025-03-11T00:00:00.000000000",
          "2025-03-12T00:00:00.000000000",
          "2025-03-13T00:00:00.000000000",
          "2025-03-17T00:00:00.000000000",
          "2025-03-18T00:00:00.000000000",
          "2025-03-19T00:00:00.000000000",
          "2025-03-20T00:00:00.000000000",
          "2025-03-21T00:00:00.000000000",
          "2025-03-24T00:00:00.000000000",
          "2025-03-25T00:00:00.000000000",
          "2025-03-26T00:00:00.000000000",
          "2025-03-27T00:00:00.000000000",
          "2025-03-28T00:00:00.000000000",
          "2025-04-01T00:00:00.000000000",
          "2025-04-02T00:00:00.000000000",
          "2025-04-03T00:00:00.000000000",
          "2025-04-04T00:00:00.000000000",
          "2025-04-07T00:00:00.000000000",
          "2025-04-08T00:00:00.000000000",
          "2025-04-09T00:00:00.000000000",
          "2025-04-11T00:00:00.000000000",
          "2025-04-15T00:00:00.000000000",
          "2025-04-16T00:00:00.000000000",
          "2025-04-17T00:00:00.000000000",
          "2025-04-21T00:00:00.000000000",
          "2025-04-22T00:00:00.000000000",
          "2025-04-23T00:00:00.000000000",
          "2025-04-24T00:00:00.000000000",
          "2025-04-25T00:00:00.000000000",
          "2025-04-28T00:00:00.000000000",
          "2025-04-29T00:00:00.000000000",
          "2025-04-30T00:00:00.000000000",
          "2025-05-02T00:00:00.000000000",
          "2025-05-05T00:00:00.000000000",
          "2025-05-06T00:00:00.000000000",
          "2025-05-07T00:00:00.000000000",
          "2025-05-08T00:00:00.000000000",
          "2025-05-09T00:00:00.000000000",
          "2025-05-12T00:00:00.000000000",
          "2025-05-13T00:00:00.000000000",
          "2025-05-14T00:00:00.000000000",
          "2025-05-15T00:00:00.000000000",
          "2025-05-16T00:00:00.000000000",
          "2025-05-19T00:00:00.000000000",
          "2025-05-20T00:00:00.000000000",
          "2025-05-21T00:00:00.000000000",
          "2025-05-22T00:00:00.000000000",
          "2025-05-23T00:00:00.000000000",
          "2025-05-26T00:00:00.000000000",
          "2025-05-27T00:00:00.000000000",
          "2025-05-28T00:00:00.000000000",
          "2025-05-29T00:00:00.000000000",
          "2025-05-30T00:00:00.000000000",
          "2025-06-02T00:00:00.000000000",
          "2025-06-03T00:00:00.000000000",
          "2025-06-04T00:00:00.000000000",
          "2025-06-05T00:00:00.000000000",
          "2025-06-06T00:00:00.000000000",
          "2025-06-09T00:00:00.000000000",
          "2025-06-10T00:00:00.000000000",
          "2025-06-11T00:00:00.000000000",
          "2025-06-12T00:00:00.000000000",
          "2025-06-13T00:00:00.000000000",
          "2025-06-16T00:00:00.000000000",
          "2025-06-17T00:00:00.000000000",
          "2025-06-18T00:00:00.000000000",
          "2025-06-19T00:00:00.000000000",
          "2025-06-20T00:00:00.000000000",
          "2025-06-23T00:00:00.000000000",
          "2025-06-24T00:00:00.000000000",
          "2025-06-25T00:00:00.000000000",
          "2025-06-26T00:00:00.000000000",
          "2025-06-27T00:00:00.000000000",
          "2025-06-30T00:00:00.000000000",
          "2025-07-01T00:00:00.000000000",
          "2025-07-02T00:00:00.000000000",
          "2025-07-03T00:00:00.000000000",
          "2025-07-04T00:00:00.000000000",
          "2025-07-07T00:00:00.000000000",
          "2025-07-08T00:00:00.000000000",
          "2025-07-09T00:00:00.000000000",
          "2025-07-10T00:00:00.000000000",
          "2025-07-11T00:00:00.000000000",
          "2025-07-14T00:00:00.000000000",
          "2025-07-15T00:00:00.000000000",
          "2025-07-16T00:00:00.000000000",
          "2025-07-17T00:00:00.000000000",
          "2025-07-18T00:00:00.000000000",
          "2025-07-21T00:00:00.000000000",
          "2025-07-22T00:00:00.000000000",
          "2025-07-23T00:00:00.000000000",
          "2025-07-24T00:00:00.000000000",
          "2025-07-25T00:00:00.000000000",
          "2025-07-28T00:00:00.000000000",
          "2025-07-29T00:00:00.000000000",
          "2025-07-30T00:00:00.000000000",
          "2025-07-31T00:00:00.000000000",
          "2025-08-01T00:00:00.000000000"
         ],
         "xaxis": "x2",
         "y": {
          "bdata": "rcMuUUx5UEDJjR74LBJOQHTZn+Pigk9Au4v29s6FUEDkdqfnSlhOQFXPXWRix0tAVc9dZGLHS0BkX8IEntJNQC91zYcbHFFAIMXnzVS0UUAiM3dUJmxTQDDc++gki1BADAAUrGFhTUB2OWOy5WtOQMJvSOR5Zk1APkA81zr/RkCU6cm3SKJGQPxjkLjc9kVAYJHcrAJVO0CcaB3FWMQzQBrNR3u2PD1A3tq70IQDP0AMrnx3AZdHQAOdWxVYZktAtkThaN86S0DPftr+7lFQQJE1cam4h1FAGVa/lu/5UEBBL22QRodRQIX/8w89olFADFbMWVhsUUAX+E8d57xUQMXZ6BDwhVVA0wtHx/akVUD2hBE29vpVQB7u8w8TOlZAgbfqoE1/VEAujhGtSy5SQOSc7zZMPVJA13O4vDk4TEBwj1Loss9RQBgNexjbWU9A5ZvwGVcuUEBn4zKQl7lRQCTfDZSz1FFAMYR7BR7mT0B46CXZT1lMQD3Mf4OCGk1AQWq+J/vXSEDbedZSWhFMQOaZJhKbc01AKz2goC9tSkDbqgCN/FpIQHt+b1rohUlAwi6OFJ9NSkBWxfwvY0BIQN22nWYrBEZAfzXq2olFS0CWos3JoXNPQEV3EGkErU9A9143HNtoUEDl9TBVG9NMQKXYpSu3bk9AKBk9wjibTEChnfPPS/tHQItGGifZC0tA61ATeabRSEAd6ElOhm9IQIXHbLUlr0lAnB2if2pGUUCYUNbQ0N9OQPWQ3JiSpkxA9ueEgKxLUEC97tywEJdSQGyFH0HWulNAt173LnUpUUAzSnSYp99SQGwWt/5FYFFAhI1lwaU2UUDntxi/fe5RQOueUEfH5FJAoj2v2JseUkBtSevXqJ9NQD+r6JSTCU1AGoLaKrK/RkBBcEpYjCREQCsT72CrtURAeHHWKMPIREAiEcMOmlRCQJXRY/07OUJA2yfbvQ9dNEBm0C4r0m4xQBIaOTQudzpAmbI406GENUBf9R0oiGEzQMjd4oqZmzJANnoeAjlbQ0CSFl8cISRCQL+H9wGrIj5AwWB0BtY3QEA=",
          "dtype": "f8"
         },
         "yaxis": "y2"
        }
       ],
       "layout": {
        "annotations": [
         {
          "font": {
           "size": 16
          },
          "showarrow": false,
          "text": "Candlesticks Chart",
          "x": 0.5,
          "xanchor": "center",
          "xref": "paper",
          "y": 0.9999999999999999,
          "yanchor": "bottom",
          "yref": "paper"
         },
         {
          "font": {
           "size": 16
          },
          "showarrow": false,
          "text": "RSI Indicator",
          "x": 0.5,
          "xanchor": "center",
          "xref": "paper",
          "y": 0.285,
          "yanchor": "bottom",
          "yref": "paper"
         },
         {
          "showarrow": false,
          "text": "Overbought (70)",
          "x": 1,
          "xanchor": "right",
          "xref": "x2 domain",
          "y": 70,
          "yanchor": "bottom",
          "yref": "y2"
         },
         {
          "showarrow": false,
          "text": "Oversold (30)",
          "x": 1,
          "xanchor": "right",
          "xref": "x2 domain",
          "y": 30,
          "yanchor": "bottom",
          "yref": "y2"
         }
        ],
        "height": 800,
        "shapes": [
         {
          "line": {
           "color": "red",
           "dash": "dash"
          },
          "type": "line",
          "x0": 0,
          "x1": 1,
          "xref": "x2 domain",
          "y0": 70,
          "y1": 70,
          "yref": "y2"
         },
         {
          "line": {
           "color": "green",
           "dash": "dash"
          },
          "type": "line",
          "x0": 0,
          "x1": 1,
          "xref": "x2 domain",
          "y0": 30,
          "y1": 30,
          "yref": "y2"
         }
        ],
        "showlegend": false,
        "template": {
         "data": {
          "bar": [
           {
            "error_x": {
             "color": "#2a3f5f"
            },
            "error_y": {
             "color": "#2a3f5f"
            },
            "marker": {
             "line": {
              "color": "#E5ECF6",
              "width": 0.5
             },
             "pattern": {
              "fillmode": "overlay",
              "size": 10,
              "solidity": 0.2
             }
            },
            "type": "bar"
           }
          ],
          "barpolar": [
           {
            "marker": {
             "line": {
              "color": "#E5ECF6",
              "width": 0.5
             },
             "pattern": {
              "fillmode": "overlay",
              "size": 10,
              "solidity": 0.2
             }
            },
            "type": "barpolar"
           }
          ],
          "carpet": [
           {
            "aaxis": {
             "endlinecolor": "#2a3f5f",
             "gridcolor": "white",
             "linecolor": "white",
             "minorgridcolor": "white",
             "startlinecolor": "#2a3f5f"
            },
            "baxis": {
             "endlinecolor": "#2a3f5f",
             "gridcolor": "white",
             "linecolor": "white",
             "minorgridcolor": "white",
             "startlinecolor": "#2a3f5f"
            },
            "type": "carpet"
           }
          ],
          "choropleth": [
           {
            "colorbar": {
             "outlinewidth": 0,
             "ticks": ""
            },
            "type": "choropleth"
           }
          ],
          "contour": [
           {
            "colorbar": {
             "outlinewidth": 0,
             "ticks": ""
            },
            "colorscale": [
             [
              0,
              "#0d0887"
             ],
             [
              0.1111111111111111,
              "#46039f"
             ],
             [
              0.2222222222222222,
              "#7201a8"
             ],
             [
              0.3333333333333333,
              "#9c179e"
             ],
             [
              0.4444444444444444,
              "#bd3786"
             ],
             [
              0.5555555555555556,
              "#d8576b"
             ],
             [
              0.6666666666666666,
              "#ed7953"
             ],
             [
              0.7777777777777778,
              "#fb9f3a"
             ],
             [
              0.8888888888888888,
              "#fdca26"
             ],
             [
              1,
              "#f0f921"
             ]
            ],
            "type": "contour"
           }
          ],
          "contourcarpet": [
           {
            "colorbar": {
             "outlinewidth": 0,
             "ticks": ""
            },
            "type": "contourcarpet"
           }
          ],
          "heatmap": [
           {
            "colorbar": {
             "outlinewidth": 0,
             "ticks": ""
            },
            "colorscale": [
             [
              0,
              "#0d0887"
             ],
             [
              0.1111111111111111,
              "#46039f"
             ],
             [
              0.2222222222222222,
              "#7201a8"
             ],
             [
              0.3333333333333333,
              "#9c179e"
             ],
             [
              0.4444444444444444,
              "#bd3786"
             ],
             [
              0.5555555555555556,
              "#d8576b"
             ],
             [
              0.6666666666666666,
              "#ed7953"
             ],
             [
              0.7777777777777778,
              "#fb9f3a"
             ],
             [
              0.8888888888888888,
              "#fdca26"
             ],
             [
              1,
              "#f0f921"
             ]
            ],
            "type": "heatmap"
           }
          ],
          "histogram": [
           {
            "marker": {
             "pattern": {
              "fillmode": "overlay",
              "size": 10,
              "solidity": 0.2
             }
            },
            "type": "histogram"
           }
          ],
          "histogram2d": [
           {
            "colorbar": {
             "outlinewidth": 0,
             "ticks": ""
            },
            "colorscale": [
             [
              0,
              "#0d0887"
             ],
             [
              0.1111111111111111,
              "#46039f"
             ],
             [
              0.2222222222222222,
              "#7201a8"
             ],
             [
              0.3333333333333333,
              "#9c179e"
             ],
             [
              0.4444444444444444,
              "#bd3786"
             ],
             [
              0.5555555555555556,
              "#d8576b"
             ],
             [
              0.6666666666666666,
              "#ed7953"
             ],
             [
              0.7777777777777778,
              "#fb9f3a"
             ],
             [
              0.8888888888888888,
              "#fdca26"
             ],
             [
              1,
              "#f0f921"
             ]
            ],
            "type": "histogram2d"
           }
          ],
          "histogram2dcontour": [
           {
            "colorbar": {
             "outlinewidth": 0,
             "ticks": ""
            },
            "colorscale": [
             [
              0,
              "#0d0887"
             ],
             [
              0.1111111111111111,
              "#46039f"
             ],
             [
              0.2222222222222222,
              "#7201a8"
             ],
             [
              0.3333333333333333,
              "#9c179e"
             ],
             [
              0.4444444444444444,
              "#bd3786"
             ],
             [
              0.5555555555555556,
              "#d8576b"
             ],
             [
              0.6666666666666666,
              "#ed7953"
             ],
             [
              0.7777777777777778,
              "#fb9f3a"
             ],
             [
              0.8888888888888888,
              "#fdca26"
             ],
             [
              1,
              "#f0f921"
             ]
            ],
            "type": "histogram2dcontour"
           }
          ],
          "mesh3d": [
           {
            "colorbar": {
             "outlinewidth": 0,
             "ticks": ""
            },
            "type": "mesh3d"
           }
          ],
          "parcoords": [
           {
            "line": {
             "colorbar": {
              "outlinewidth": 0,
              "ticks": ""
             }
            },
            "type": "parcoords"
           }
          ],
          "pie": [
           {
            "automargin": true,
            "type": "pie"
           }
          ],
          "scatter": [
           {
            "fillpattern": {
             "fillmode": "overlay",
             "size": 10,
             "solidity": 0.2
            },
            "type": "scatter"
           }
          ],
          "scatter3d": [
           {
            "line": {
             "colorbar": {
              "outlinewidth": 0,
              "ticks": ""
             }
            },
            "marker": {
             "colorbar": {
              "outlinewidth": 0,
              "ticks": ""
             }
            },
            "type": "scatter3d"
           }
          ],
          "scattercarpet": [
           {
            "marker": {
             "colorbar": {
              "outlinewidth": 0,
              "ticks": ""
             }
            },
            "type": "scattercarpet"
           }
          ],
          "scattergeo": [
           {
            "marker": {
             "colorbar": {
              "outlinewidth": 0,
              "ticks": ""
             }
            },
            "type": "scattergeo"
           }
          ],
          "scattergl": [
           {
            "marker": {
             "colorbar": {
              "outlinewidth": 0,
              "ticks": ""
             }
            },
            "type": "scattergl"
           }
          ],
          "scattermap": [
           {
            "marker": {
             "colorbar": {
              "outlinewidth": 0,
              "ticks": ""
             }
            },
            "type": "scattermap"
           }
          ],
          "scattermapbox": [
           {
            "marker": {
             "colorbar": {
              "outlinewidth": 0,
              "ticks": ""
             }
            },
            "type": "scattermapbox"
           }
          ],
          "scatterpolar": [
           {
            "marker": {
             "colorbar": {
              "outlinewidth": 0,
              "ticks": ""
             }
            },
            "type": "scatterpolar"
           }
          ],
          "scatterpolargl": [
           {
            "marker": {
             "colorbar": {
              "outlinewidth": 0,
              "ticks": ""
             }
            },
            "type": "scatterpolargl"
           }
          ],
          "scatterternary": [
           {
            "marker": {
             "colorbar": {
              "outlinewidth": 0,
              "ticks": ""
             }
            },
            "type": "scatterternary"
           }
          ],
          "surface": [
           {
            "colorbar": {
             "outlinewidth": 0,
             "ticks": ""
            },
            "colorscale": [
             [
              0,
              "#0d0887"
             ],
             [
              0.1111111111111111,
              "#46039f"
             ],
             [
              0.2222222222222222,
              "#7201a8"
             ],
             [
              0.3333333333333333,
              "#9c179e"
             ],
             [
              0.4444444444444444,
              "#bd3786"
             ],
             [
              0.5555555555555556,
              "#d8576b"
             ],
             [
              0.6666666666666666,
              "#ed7953"
             ],
             [
              0.7777777777777778,
              "#fb9f3a"
             ],
             [
              0.8888888888888888,
              "#fdca26"
             ],
             [
              1,
              "#f0f921"
             ]
            ],
            "type": "surface"
           }
          ],
          "table": [
           {
            "cells": {
             "fill": {
              "color": "#EBF0F8"
             },
             "line": {
              "color": "white"
             }
            },
            "header": {
             "fill": {
              "color": "#C8D4E3"
             },
             "line": {
              "color": "white"
             }
            },
            "type": "table"
           }
          ]
         },
         "layout": {
          "annotationdefaults": {
           "arrowcolor": "#2a3f5f",
           "arrowhead": 0,
           "arrowwidth": 1
          },
          "autotypenumbers": "strict",
          "coloraxis": {
           "colorbar": {
            "outlinewidth": 0,
            "ticks": ""
           }
          },
          "colorscale": {
           "diverging": [
            [
             0,
             "#8e0152"
            ],
            [
             0.1,
             "#c51b7d"
            ],
            [
             0.2,
             "#de77ae"
            ],
            [
             0.3,
             "#f1b6da"
            ],
            [
             0.4,
             "#fde0ef"
            ],
            [
             0.5,
             "#f7f7f7"
            ],
            [
             0.6,
             "#e6f5d0"
            ],
            [
             0.7,
             "#b8e186"
            ],
            [
             0.8,
             "#7fbc41"
            ],
            [
             0.9,
             "#4d9221"
            ],
            [
             1,
             "#276419"
            ]
           ],
           "sequential": [
            [
             0,
             "#0d0887"
            ],
            [
             0.1111111111111111,
             "#46039f"
            ],
            [
             0.2222222222222222,
             "#7201a8"
            ],
            [
             0.3333333333333333,
             "#9c179e"
            ],
            [
             0.4444444444444444,
             "#bd3786"
            ],
            [
             0.5555555555555556,
             "#d8576b"
            ],
            [
             0.6666666666666666,
             "#ed7953"
            ],
            [
             0.7777777777777778,
             "#fb9f3a"
            ],
            [
             0.8888888888888888,
             "#fdca26"
            ],
            [
             1,
             "#f0f921"
            ]
           ],
           "sequentialminus": [
            [
             0,
             "#0d0887"
            ],
            [
             0.1111111111111111,
             "#46039f"
            ],
            [
             0.2222222222222222,
             "#7201a8"
            ],
            [
             0.3333333333333333,
             "#9c179e"
            ],
            [
             0.4444444444444444,
             "#bd3786"
            ],
            [
             0.5555555555555556,
             "#d8576b"
            ],
            [
             0.6666666666666666,
             "#ed7953"
            ],
            [
             0.7777777777777778,
             "#fb9f3a"
            ],
            [
             0.8888888888888888,
             "#fdca26"
            ],
            [
             1,
             "#f0f921"
            ]
           ]
          },
          "colorway": [
           "#636efa",
           "#EF553B",
           "#00cc96",
           "#ab63fa",
           "#FFA15A",
           "#19d3f3",
           "#FF6692",
           "#B6E880",
           "#FF97FF",
           "#FECB52"
          ],
          "font": {
           "color": "#2a3f5f"
          },
          "geo": {
           "bgcolor": "white",
           "lakecolor": "white",
           "landcolor": "#E5ECF6",
           "showlakes": true,
           "showland": true,
           "subunitcolor": "white"
          },
          "hoverlabel": {
           "align": "left"
          },
          "hovermode": "closest",
          "mapbox": {
           "style": "light"
          },
          "paper_bgcolor": "white",
          "plot_bgcolor": "#E5ECF6",
          "polar": {
           "angularaxis": {
            "gridcolor": "white",
            "linecolor": "white",
            "ticks": ""
           },
           "bgcolor": "#E5ECF6",
           "radialaxis": {
            "gridcolor": "white",
            "linecolor": "white",
            "ticks": ""
           }
          },
          "scene": {
           "xaxis": {
            "backgroundcolor": "#E5ECF6",
            "gridcolor": "white",
            "gridwidth": 2,
            "linecolor": "white",
            "showbackground": true,
            "ticks": "",
            "zerolinecolor": "white"
           },
           "yaxis": {
            "backgroundcolor": "#E5ECF6",
            "gridcolor": "white",
            "gridwidth": 2,
            "linecolor": "white",
            "showbackground": true,
            "ticks": "",
            "zerolinecolor": "white"
           },
           "zaxis": {
            "backgroundcolor": "#E5ECF6",
            "gridcolor": "white",
            "gridwidth": 2,
            "linecolor": "white",
            "showbackground": true,
            "ticks": "",
            "zerolinecolor": "white"
           }
          },
          "shapedefaults": {
           "line": {
            "color": "#2a3f5f"
           }
          },
          "ternary": {
           "aaxis": {
            "gridcolor": "white",
            "linecolor": "white",
            "ticks": ""
           },
           "baxis": {
            "gridcolor": "white",
            "linecolor": "white",
            "ticks": ""
           },
           "bgcolor": "#E5ECF6",
           "caxis": {
            "gridcolor": "white",
            "linecolor": "white",
            "ticks": ""
           }
          },
          "title": {
           "x": 0.05
          },
          "xaxis": {
           "automargin": true,
           "gridcolor": "white",
           "linecolor": "white",
           "ticks": "",
           "title": {
            "standoff": 15
           },
           "zerolinecolor": "white",
           "zerolinewidth": 2
          },
          "yaxis": {
           "automargin": true,
           "gridcolor": "white",
           "linecolor": "white",
           "ticks": "",
           "title": {
            "standoff": 15
           },
           "zerolinecolor": "white",
           "zerolinewidth": 2
          }
         }
        },
        "title": {
         "text": "RELIANCE - Candlestick with RSI (8)"
        },
        "xaxis": {
         "anchor": "y",
         "domain": [
          0,
          1
         ],
         "matches": "x2",
         "rangeslider": {
          "visible": false
         },
         "showticklabels": false
        },
        "xaxis2": {
         "anchor": "y2",
         "domain": [
          0,
          1
         ]
        },
        "yaxis": {
         "anchor": "x",
         "domain": [
          0.33499999999999996,
          0.9999999999999999
         ]
        },
        "yaxis2": {
         "anchor": "x2",
         "domain": [
          0,
          0.285
         ]
        }
       }
      }
     },
     "metadata": {},
     "output_type": "display_data"
    }
   ],
   "source": [
    "plot_candlesticks_RSI_chart(df, 8)"
   ]
  }
 ],
 "metadata": {
  "kernelspec": {
   "display_name": "Python 3",
   "language": "python",
   "name": "python3"
  },
  "language_info": {
   "codemirror_mode": {
    "name": "ipython",
    "version": 3
   },
   "file_extension": ".py",
   "mimetype": "text/x-python",
   "name": "python",
   "nbconvert_exporter": "python",
   "pygments_lexer": "ipython3",
   "version": "3.10.2"
  }
 },
 "nbformat": 4,
 "nbformat_minor": 5
}
