{
 "cells": [
  {
   "cell_type": "code",
   "execution_count": 3,
   "id": "020960bc",
   "metadata": {},
   "outputs": [],
   "source": [
    "# Import libraries and modules\n",
    "# from SmartApi import SmartConnect\n",
    "# import requests\n",
    "# import json\n",
    "# from config.config import API_KEY, SECRET_KEY\n",
    "\n",
    "import pandas as pd\n",
    "import numpy as np\n",
    "import datetime\n",
    "from plotly import graph_objects as go\n",
    "from plotly.subplots import make_subplots\n",
    "from utilities.indicators import calculate_rsi"
   ]
  },
  {
   "cell_type": "code",
   "execution_count": 6,
   "id": "e87c8aea",
   "metadata": {},
   "outputs": [],
   "source": [
    "# Read Reliance data from CSV file\n",
    "reliance_d_df = pd.read_csv(\"data/processed/RELIANCE.NSE_D.csv\")\n",
    "# Convert Date column to datetime\n",
    "reliance_d_df['Date'] = pd.to_datetime(reliance_d_df['Date'], format='%Y-%m-%d')\n",
    "# Set Date column as index\n",
    "reliance_d_df.set_index('Date', inplace=True)\n",
    "\n",
    "# Slice the data for the last 90 days\n",
    "df = reliance_d_df.tail(90).copy()\n",
    "\n",
    "# Add RSI\n",
    "df['RSI'] = calculate_rsi(df['Close'])\n"
   ]
  },
  {
   "cell_type": "code",
   "execution_count": 7,
   "id": "2896e25d",
   "metadata": {},
   "outputs": [
    {
     "data": {
      "application/vnd.plotly.v1+json": {
       "config": {
        "plotlyServerURL": "https://plot.ly"
       },
       "data": [
        {
         "close": {
          "bdata": "MzMzMzOtlEDNzMzMzHOUQDMzMzMzqJRAMzMzMzN+lECamZmZmTyUQGZmZmZmE5RAzczMzMz4k0CamZmZmbuTQGZmZmZm45NAMzMzMzPRk0AzMzMzM3WTQAAAAAAAlZNAzczMzMw5k0AzMzMzM9WSQDMzMzMzGZNAAAAAAAAbk0AzMzMzMwKTQDMzMzMzFJNAzczMzMzqkkDNzMzMzP2SQAAAAAAAFZNAMzMzMzNnk0CamZmZmYyTQAAAAAAACJNAZmZmZmZjk0AAAAAAAMaTQAAAAAAAm5NAmpmZmZlnk0BmZmZmZl+TQAAAAAAAW5NAzczMzMyQk0DNzMzMzMmTQGZmZmZmWZRAzczMzMxllEDNzMzMzOaTQGZmZmZm9JNAmpmZmZm+k0AzMzMzM3mTQGZmZmZmNZNAmpmZmZlJk0AAAAAAAE6TQDMzMzMzlJNAZmZmZmbEk0BmZmZmZsKTQJqZmZmZd5NAzczMzMwUlEDNzMzMzPiTQDMzMzMzBpRAzczMzMzKk0CamZmZmZaTQGZmZmZmS5NAMzMzMzMCk0BmZmZmZgCTQAAAAAAABZNAmpmZmZkjk0CamZmZmSWTQM3MzMzMLZNAAAAAAABEk0CamZmZmTCTQDMzMzMz+pJAAAAAAADQkkBmZmZmZtySQGZmZmZmwJJAAAAAAABNkkCamZmZmSeSQGZmZmZmXpJAZmZmZmbmkkAzMzMzM4eTQJqZmZmZWZNAMzMzMzN9k0AzMzMzM6STQJqZmZmZf5NAZmZmZmZbk0BmZmZmZluTQJqZmZmZfJNAmpmZmZnUk0BmZmZmZvGTQGZmZmZmWJRAzczMzMwVlEAzMzMzM+STQM3MzMzM+JNAZmZmZmbsk0BmZmZmZpKTQJqZmZmZjJNAzczMzMyCk0DNzMzMzNKSQM3MzMzMNpJAzczMzMx4kkBmZmZmZoWSQM3MzMzMC5NA",
          "dtype": "f8"
         },
         "high": {
          "bdata": "MzMzMzO7lECamZmZmcGUQM3MzMzMx5RAmpmZmZmvlEAAAAAAAIyUQJqZmZmZO5RAAAAAAAAolEDNzMzMzPiTQM3MzMzM7JNAAAAAAAAElECamZmZmb+TQM3MzMzMr5NAmpmZmZlzk0AAAAAAAF6TQM3MzMzMLJNAMzMzMzNGk0DNzMzMzC6TQJqZmZmZL5NAzczMzMwck0BmZmZmZgyTQDMzMzMzKZNAzczMzMxxk0AzMzMzM7iTQAAAAAAAuJNAAAAAAAByk0AzMzMzM9yTQAAAAAAA15NAAAAAAACjk0AAAAAAAHWTQGZmZmZmlZNAAAAAAACkk0AAAAAAAOyTQAAAAAAAuJRAAAAAAACQlEAAAAAAAISUQJqZmZmZC5RAZmZmZmb1k0AAAAAAAOSTQM3MzMzMYZNAAAAAAABzk0AAAAAAAGuTQAAAAAAApJNAAAAAAADMk0AzMzMzM9qTQAAAAAAAoJNAMzMzMzMjlEAAAAAAACqUQAAAAAAAIJRAzczMzMwOlEAAAAAAAMqTQDMzMzMzwpNAmpmZmZkrk0AAAAAAADCTQAAAAAAAIJNAAAAAAAAuk0CamZmZmTeTQAAAAAAAQ5NAZmZmZmZdk0AAAAAAAGCTQAAAAAAAHZNAAAAAAAAUk0AAAAAAAPySQGZmZmZmBZNAzczMzMzZkkAAAAAAAFiSQAAAAAAAfJJAzczMzMz3kkAzMzMzM5uTQAAAAAAAqJNAAAAAAACGk0AAAAAAALyTQJqZmZmZwJNAmpmZmZmlk0BmZmZmZluTQAAAAAAAlZNAAAAAAADkk0AAAAAAAASUQAAAAAAAaJRAzczMzMxulEAzMzMzMzeUQAAAAAAAFJRAAAAAAAA/lECamZmZmfeTQDMzMzMznpNAMzMzMzOPk0DNzMzMzHWTQAAAAAAATZJAZmZmZmaykkAzMzMzM5eSQJqZmZmZGpNA",
          "dtype": "f8"
         },
         "low": {
          "bdata": "AAAAAABslEAzMzMzM2CUQJqZmZmZaJRAAAAAAAB4lEBmZmZmZjSUQM3MzMzMAJRAMzMzMzPwk0BmZmZmZrKTQGZmZmZmXpNAMzMzMzPKk0AzMzMzM2uTQJqZmZmZYpNAAAAAAAA0k0AAAAAAAMaSQM3MzMzM9JJAAAAAAAAUk0AAAAAAAPmSQAAAAAAABJNAZmZmZmbgkkCamZmZmdiSQGZmZmZm7pJAAAAAAAAQk0AAAAAAAE6TQAAAAAAA/JJAAAAAAAAVk0BmZmZmZnWTQDMzMzMzgJNAAAAAAABQk0CamZmZmSmTQAAAAAAALZNAZmZmZmZnk0AzMzMzM42TQAAAAAAAFJRAAAAAAABRlEDNzMzMzNiTQM3MzMzM0pNAZmZmZma2k0AAAAAAAG6TQAAAAAAAEJNAAAAAAAAKk0AzMzMzMzCTQJqZmZmZQZNAAAAAAACEk0AAAAAAAGSTQDMzMzMzVpNAZmZmZmZ6k0DNzMzMzPKTQGZmZmZm2ZNAAAAAAAC4k0AzMzMzM3aTQGZmZmZmOJNAZmZmZmalkkAAAAAAAPCSQM3MzMzM1ZJAAAAAAADSkkBmZmZmZgCTQDMzMzMzBpNAAAAAAAAYk0CamZmZmRiTQAAAAAAA6pJAAAAAAADGkkCamZmZmcKSQDMzMzMzpZJAAAAAAAAQkkAzMzMzMx6SQAAAAAAAFJJAmpmZmZmEkkAAAAAAAPCSQJqZmZmZTZNAAAAAAAA3k0AAAAAAAHCTQGZmZmZmb5NAZmZmZmZEk0BmZmZmZluTQDMzMzMzW5NAMzMzMzOIk0BmZmZmZtiTQAAAAAAAEZRAZmZmZmYKlEAAAAAAANOTQDMzMzMz3ZNAAAAAAADUk0AzMzMzM4WTQJqZmZmZb5NAMzMzMzNEk0CamZmZmaSSQGZmZmZma5FAMzMzMzMtkkAAAAAAAECSQJqZmZmZrJJA",
          "dtype": "f8"
         },
         "name": "Candlestick",
         "open": {
          "bdata": "AAAAAACUlEAAAAAAALiUQGZmZmZmiZRAmpmZmZmvlEAAAAAAAFyUQAAAAAAAJZRAAAAAAAAUlEAAAAAAANiTQAAAAAAAsJNAAAAAAADsk0AzMzMzM7STQJqZmZmZYpNAAAAAAABck0AAAAAAACCTQAAAAAAA/JJAMzMzMzMZk0AAAAAAACGTQDMzMzMzCZNAmpmZmZkBk0AAAAAAAOCSQGZmZmZm+5JAAAAAAAAVk0CamZmZmW+TQM3MzMzMl5NAAAAAAAAYk0AAAAAAAISTQAAAAAAAzJNAZmZmZmaXk0AAAAAAADiTQGZmZmZmcJNAzczMzMxzk0CamZmZmauTQAAAAAAAqZRAAAAAAACQlEAAAAAAAHqUQDMzMzMz+ZNAAAAAAADYk0AAAAAAAMiTQGZmZmZmXJNAAAAAAABYk0AAAAAAAFCTQDMzMzMzTpNAZmZmZmafk0BmZmZmZsSTQAAAAAAAjJNAMzMzMzOAk0CamZmZmQqUQM3MzMzM5pNAmpmZmZnwk0AAAAAAAMKTQDMzMzMzwpNAzczMzMwNk0AzMzMzMwSTQAAAAAAADJNAZmZmZmbskkBmZmZmZiOTQAAAAAAADpNAzczMzMwfk0DNzMzMzDKTQDMzMzMzApNAAAAAAADskkAzMzMzM/OSQAAAAAAAyJJAAAAAAADQkkDNzMzMzCiSQAAAAAAAJJJAAAAAAAC0kkAAAAAAAACTQAAAAAAAdJNAAAAAAABgk0AAAAAAAKiTQDMzMzMzsJNAmpmZmZlok0BmZmZmZluTQDMzMzMzZJNAZmZmZmaPk0AAAAAAAOyTQAAAAAAALJRAzczMzMxulEAAAAAAACyUQJqZmZmZ+JNAAAAAAAAAlEBmZmZmZsKTQDMzMzMzfpNAMzMzMzNEk0BmZmZmZmSTQM3MzMzMsJFAAAAAAABQkkAAAAAAAEaSQJqZmZmZrJJA",
          "dtype": "f8"
         },
         "type": "candlestick",
         "x": [
          "2024-12-03T00:00:00.000000000",
          "2024-12-04T00:00:00.000000000",
          "2024-12-05T00:00:00.000000000",
          "2024-12-06T00:00:00.000000000",
          "2024-12-09T00:00:00.000000000",
          "2024-12-10T00:00:00.000000000",
          "2024-12-11T00:00:00.000000000",
          "2024-12-12T00:00:00.000000000",
          "2024-12-13T00:00:00.000000000",
          "2024-12-16T00:00:00.000000000",
          "2024-12-17T00:00:00.000000000",
          "2024-12-18T00:00:00.000000000",
          "2024-12-19T00:00:00.000000000",
          "2024-12-20T00:00:00.000000000",
          "2024-12-23T00:00:00.000000000",
          "2024-12-24T00:00:00.000000000",
          "2024-12-26T00:00:00.000000000",
          "2024-12-27T00:00:00.000000000",
          "2024-12-30T00:00:00.000000000",
          "2024-12-31T00:00:00.000000000",
          "2025-01-01T00:00:00.000000000",
          "2025-01-02T00:00:00.000000000",
          "2025-01-03T00:00:00.000000000",
          "2025-01-06T00:00:00.000000000",
          "2025-01-07T00:00:00.000000000",
          "2025-01-08T00:00:00.000000000",
          "2025-01-09T00:00:00.000000000",
          "2025-01-10T00:00:00.000000000",
          "2025-01-13T00:00:00.000000000",
          "2025-01-14T00:00:00.000000000",
          "2025-01-15T00:00:00.000000000",
          "2025-01-16T00:00:00.000000000",
          "2025-01-17T00:00:00.000000000",
          "2025-01-20T00:00:00.000000000",
          "2025-01-21T00:00:00.000000000",
          "2025-01-22T00:00:00.000000000",
          "2025-01-23T00:00:00.000000000",
          "2025-01-24T00:00:00.000000000",
          "2025-01-27T00:00:00.000000000",
          "2025-01-28T00:00:00.000000000",
          "2025-01-29T00:00:00.000000000",
          "2025-01-30T00:00:00.000000000",
          "2025-01-31T00:00:00.000000000",
          "2025-02-01T00:00:00.000000000",
          "2025-02-03T00:00:00.000000000",
          "2025-02-04T00:00:00.000000000",
          "2025-02-05T00:00:00.000000000",
          "2025-02-06T00:00:00.000000000",
          "2025-02-07T00:00:00.000000000",
          "2025-02-10T00:00:00.000000000",
          "2025-02-11T00:00:00.000000000",
          "2025-02-12T00:00:00.000000000",
          "2025-02-13T00:00:00.000000000",
          "2025-02-14T00:00:00.000000000",
          "2025-02-17T00:00:00.000000000",
          "2025-02-18T00:00:00.000000000",
          "2025-02-19T00:00:00.000000000",
          "2025-02-20T00:00:00.000000000",
          "2025-02-21T00:00:00.000000000",
          "2025-02-24T00:00:00.000000000",
          "2025-02-25T00:00:00.000000000",
          "2025-02-27T00:00:00.000000000",
          "2025-02-28T00:00:00.000000000",
          "2025-03-03T00:00:00.000000000",
          "2025-03-04T00:00:00.000000000",
          "2025-03-05T00:00:00.000000000",
          "2025-03-06T00:00:00.000000000",
          "2025-03-07T00:00:00.000000000",
          "2025-03-10T00:00:00.000000000",
          "2025-03-11T00:00:00.000000000",
          "2025-03-12T00:00:00.000000000",
          "2025-03-13T00:00:00.000000000",
          "2025-03-17T00:00:00.000000000",
          "2025-03-18T00:00:00.000000000",
          "2025-03-19T00:00:00.000000000",
          "2025-03-20T00:00:00.000000000",
          "2025-03-21T00:00:00.000000000",
          "2025-03-24T00:00:00.000000000",
          "2025-03-25T00:00:00.000000000",
          "2025-03-26T00:00:00.000000000",
          "2025-03-27T00:00:00.000000000",
          "2025-03-28T00:00:00.000000000",
          "2025-04-01T00:00:00.000000000",
          "2025-04-02T00:00:00.000000000",
          "2025-04-03T00:00:00.000000000",
          "2025-04-04T00:00:00.000000000",
          "2025-04-07T00:00:00.000000000",
          "2025-04-08T00:00:00.000000000",
          "2025-04-09T00:00:00.000000000",
          "2025-04-11T00:00:00.000000000"
         ],
         "xaxis": "x",
         "yaxis": "y"
        },
        {
         "line": {
          "color": "blue"
         },
         "mode": "lines",
         "name": "RSI",
         "type": "scatter",
         "x": [
          "2024-12-03T00:00:00.000000000",
          "2024-12-04T00:00:00.000000000",
          "2024-12-05T00:00:00.000000000",
          "2024-12-06T00:00:00.000000000",
          "2024-12-09T00:00:00.000000000",
          "2024-12-10T00:00:00.000000000",
          "2024-12-11T00:00:00.000000000",
          "2024-12-12T00:00:00.000000000",
          "2024-12-13T00:00:00.000000000",
          "2024-12-16T00:00:00.000000000",
          "2024-12-17T00:00:00.000000000",
          "2024-12-18T00:00:00.000000000",
          "2024-12-19T00:00:00.000000000",
          "2024-12-20T00:00:00.000000000",
          "2024-12-23T00:00:00.000000000",
          "2024-12-24T00:00:00.000000000",
          "2024-12-26T00:00:00.000000000",
          "2024-12-27T00:00:00.000000000",
          "2024-12-30T00:00:00.000000000",
          "2024-12-31T00:00:00.000000000",
          "2025-01-01T00:00:00.000000000",
          "2025-01-02T00:00:00.000000000",
          "2025-01-03T00:00:00.000000000",
          "2025-01-06T00:00:00.000000000",
          "2025-01-07T00:00:00.000000000",
          "2025-01-08T00:00:00.000000000",
          "2025-01-09T00:00:00.000000000",
          "2025-01-10T00:00:00.000000000",
          "2025-01-13T00:00:00.000000000",
          "2025-01-14T00:00:00.000000000",
          "2025-01-15T00:00:00.000000000",
          "2025-01-16T00:00:00.000000000",
          "2025-01-17T00:00:00.000000000",
          "2025-01-20T00:00:00.000000000",
          "2025-01-21T00:00:00.000000000",
          "2025-01-22T00:00:00.000000000",
          "2025-01-23T00:00:00.000000000",
          "2025-01-24T00:00:00.000000000",
          "2025-01-27T00:00:00.000000000",
          "2025-01-28T00:00:00.000000000",
          "2025-01-29T00:00:00.000000000",
          "2025-01-30T00:00:00.000000000",
          "2025-01-31T00:00:00.000000000",
          "2025-02-01T00:00:00.000000000",
          "2025-02-03T00:00:00.000000000",
          "2025-02-04T00:00:00.000000000",
          "2025-02-05T00:00:00.000000000",
          "2025-02-06T00:00:00.000000000",
          "2025-02-07T00:00:00.000000000",
          "2025-02-10T00:00:00.000000000",
          "2025-02-11T00:00:00.000000000",
          "2025-02-12T00:00:00.000000000",
          "2025-02-13T00:00:00.000000000",
          "2025-02-14T00:00:00.000000000",
          "2025-02-17T00:00:00.000000000",
          "2025-02-18T00:00:00.000000000",
          "2025-02-19T00:00:00.000000000",
          "2025-02-20T00:00:00.000000000",
          "2025-02-21T00:00:00.000000000",
          "2025-02-24T00:00:00.000000000",
          "2025-02-25T00:00:00.000000000",
          "2025-02-27T00:00:00.000000000",
          "2025-02-28T00:00:00.000000000",
          "2025-03-03T00:00:00.000000000",
          "2025-03-04T00:00:00.000000000",
          "2025-03-05T00:00:00.000000000",
          "2025-03-06T00:00:00.000000000",
          "2025-03-07T00:00:00.000000000",
          "2025-03-10T00:00:00.000000000",
          "2025-03-11T00:00:00.000000000",
          "2025-03-12T00:00:00.000000000",
          "2025-03-13T00:00:00.000000000",
          "2025-03-17T00:00:00.000000000",
          "2025-03-18T00:00:00.000000000",
          "2025-03-19T00:00:00.000000000",
          "2025-03-20T00:00:00.000000000",
          "2025-03-21T00:00:00.000000000",
          "2025-03-24T00:00:00.000000000",
          "2025-03-25T00:00:00.000000000",
          "2025-03-26T00:00:00.000000000",
          "2025-03-27T00:00:00.000000000",
          "2025-03-28T00:00:00.000000000",
          "2025-04-01T00:00:00.000000000",
          "2025-04-02T00:00:00.000000000",
          "2025-04-03T00:00:00.000000000",
          "2025-04-04T00:00:00.000000000",
          "2025-04-07T00:00:00.000000000",
          "2025-04-08T00:00:00.000000000",
          "2025-04-09T00:00:00.000000000",
          "2025-04-11T00:00:00.000000000"
         ],
         "xaxis": "x2",
         "y": {
          "bdata": "AAAAAAAA+H8AAAAAAAD4fwAAAAAAAPh/AAAAAAAA+H8AAAAAAAD4fwAAAAAAAPh/AAAAAAAA+H8AAAAAAAD4fwAAAAAAAPh/AAAAAAAA+H8AAAAAAAD4fwAAAAAAAPh/AAAAAAAA+H8AAAAAAAD4f4gpYD6QXThAIDnB1gB2OkDE88lZ+w80QASBAbnjaTdAGKNctM1GOEAMhH+9/R48QPRGd3YE8z9AWWFWo4jDRUBHjbDc06hFQJivwxKOakJAbA8K2sVqSEARa4iEvXlKQHLCMax/G0xAC19PRZr+TUAFbGT4k5tLQDSRkqFGXktARzUhfUIPTkBWXrGo/RpPQMDLkpv+6lFAz2N/ZrzcUUBBA0yY4Y9OQIm8n158CU1AV+L1RzpnSkAdYgsUZmtMQBb3TrLUkUdAPYV4n8G2REDgidKlrTJGQDAu66ZrlEpAnoiaZbhiTECktA0lLnpMQNECLdACLUhAtwB8hisrS0DRfiFWlMZFQMppA5020EVAxbxfvWX5R0DfGJruYL9FQFDuaYTlHkVAi/KrslwDRUAU0lG5Ug1HQNVqr2Fka0ZAq+7KGS53R0BQpbYbF49EQJk2c4GfiUJAJdsS+/7BQ0AC8Brg5MFFQHxjYLX3NzJAaPjFy52nMUCYF/25kXkxQPjz9HoAwzJAqAFXrAFXMEAE2Hqs+rQxQPD2EyFYGj9ApMT69tXaR0D9mlvbQX9NQIzS9xzJ00pAf/mybtfVS0BwSaghba9MQC5RokSJ0kpAuzXnpkhISkDbiZ3YiR1MQMSYvJi8mE5AcFh6EScqUEC+Jjshwv9QQOxYyiTYVVRAs0+fX/KlU0BfUf1qGyxSQPbeT5TZHFFArsACCyxATUDhc9TvWjhLQDkaiHOgoUlA4+aqQtSPR0ABAAAAAABDQMYiSsAiSkBAT0uMrvC+QkBm9JMtvgRCQJKNuBmGnENA",
          "dtype": "f8"
         },
         "yaxis": "y2"
        }
       ],
       "layout": {
        "annotations": [
         {
          "font": {
           "size": 16
          },
          "showarrow": false,
          "text": "RELIANCE",
          "x": 0.5,
          "xanchor": "center",
          "xref": "paper",
          "y": 0.9999999999999999,
          "yanchor": "bottom",
          "yref": "paper"
         },
         {
          "font": {
           "size": 16
          },
          "showarrow": false,
          "text": "RSI Indicator",
          "x": 0.5,
          "xanchor": "center",
          "xref": "paper",
          "y": 0.285,
          "yanchor": "bottom",
          "yref": "paper"
         },
         {
          "showarrow": false,
          "text": "Overbought (70)",
          "x": 1,
          "xanchor": "right",
          "xref": "x2 domain",
          "y": 70,
          "yanchor": "bottom",
          "yref": "y2"
         },
         {
          "showarrow": false,
          "text": "Oversold (30)",
          "x": 1,
          "xanchor": "right",
          "xref": "x2 domain",
          "y": 30,
          "yanchor": "bottom",
          "yref": "y2"
         }
        ],
        "height": 800,
        "shapes": [
         {
          "line": {
           "color": "red",
           "dash": "dash"
          },
          "type": "line",
          "x0": 0,
          "x1": 1,
          "xref": "x2 domain",
          "y0": 70,
          "y1": 70,
          "yref": "y2"
         },
         {
          "line": {
           "color": "green",
           "dash": "dash"
          },
          "type": "line",
          "x0": 0,
          "x1": 1,
          "xref": "x2 domain",
          "y0": 30,
          "y1": 30,
          "yref": "y2"
         }
        ],
        "showlegend": false,
        "template": {
         "data": {
          "bar": [
           {
            "error_x": {
             "color": "#2a3f5f"
            },
            "error_y": {
             "color": "#2a3f5f"
            },
            "marker": {
             "line": {
              "color": "#E5ECF6",
              "width": 0.5
             },
             "pattern": {
              "fillmode": "overlay",
              "size": 10,
              "solidity": 0.2
             }
            },
            "type": "bar"
           }
          ],
          "barpolar": [
           {
            "marker": {
             "line": {
              "color": "#E5ECF6",
              "width": 0.5
             },
             "pattern": {
              "fillmode": "overlay",
              "size": 10,
              "solidity": 0.2
             }
            },
            "type": "barpolar"
           }
          ],
          "carpet": [
           {
            "aaxis": {
             "endlinecolor": "#2a3f5f",
             "gridcolor": "white",
             "linecolor": "white",
             "minorgridcolor": "white",
             "startlinecolor": "#2a3f5f"
            },
            "baxis": {
             "endlinecolor": "#2a3f5f",
             "gridcolor": "white",
             "linecolor": "white",
             "minorgridcolor": "white",
             "startlinecolor": "#2a3f5f"
            },
            "type": "carpet"
           }
          ],
          "choropleth": [
           {
            "colorbar": {
             "outlinewidth": 0,
             "ticks": ""
            },
            "type": "choropleth"
           }
          ],
          "contour": [
           {
            "colorbar": {
             "outlinewidth": 0,
             "ticks": ""
            },
            "colorscale": [
             [
              0,
              "#0d0887"
             ],
             [
              0.1111111111111111,
              "#46039f"
             ],
             [
              0.2222222222222222,
              "#7201a8"
             ],
             [
              0.3333333333333333,
              "#9c179e"
             ],
             [
              0.4444444444444444,
              "#bd3786"
             ],
             [
              0.5555555555555556,
              "#d8576b"
             ],
             [
              0.6666666666666666,
              "#ed7953"
             ],
             [
              0.7777777777777778,
              "#fb9f3a"
             ],
             [
              0.8888888888888888,
              "#fdca26"
             ],
             [
              1,
              "#f0f921"
             ]
            ],
            "type": "contour"
           }
          ],
          "contourcarpet": [
           {
            "colorbar": {
             "outlinewidth": 0,
             "ticks": ""
            },
            "type": "contourcarpet"
           }
          ],
          "heatmap": [
           {
            "colorbar": {
             "outlinewidth": 0,
             "ticks": ""
            },
            "colorscale": [
             [
              0,
              "#0d0887"
             ],
             [
              0.1111111111111111,
              "#46039f"
             ],
             [
              0.2222222222222222,
              "#7201a8"
             ],
             [
              0.3333333333333333,
              "#9c179e"
             ],
             [
              0.4444444444444444,
              "#bd3786"
             ],
             [
              0.5555555555555556,
              "#d8576b"
             ],
             [
              0.6666666666666666,
              "#ed7953"
             ],
             [
              0.7777777777777778,
              "#fb9f3a"
             ],
             [
              0.8888888888888888,
              "#fdca26"
             ],
             [
              1,
              "#f0f921"
             ]
            ],
            "type": "heatmap"
           }
          ],
          "histogram": [
           {
            "marker": {
             "pattern": {
              "fillmode": "overlay",
              "size": 10,
              "solidity": 0.2
             }
            },
            "type": "histogram"
           }
          ],
          "histogram2d": [
           {
            "colorbar": {
             "outlinewidth": 0,
             "ticks": ""
            },
            "colorscale": [
             [
              0,
              "#0d0887"
             ],
             [
              0.1111111111111111,
              "#46039f"
             ],
             [
              0.2222222222222222,
              "#7201a8"
             ],
             [
              0.3333333333333333,
              "#9c179e"
             ],
             [
              0.4444444444444444,
              "#bd3786"
             ],
             [
              0.5555555555555556,
              "#d8576b"
             ],
             [
              0.6666666666666666,
              "#ed7953"
             ],
             [
              0.7777777777777778,
              "#fb9f3a"
             ],
             [
              0.8888888888888888,
              "#fdca26"
             ],
             [
              1,
              "#f0f921"
             ]
            ],
            "type": "histogram2d"
           }
          ],
          "histogram2dcontour": [
           {
            "colorbar": {
             "outlinewidth": 0,
             "ticks": ""
            },
            "colorscale": [
             [
              0,
              "#0d0887"
             ],
             [
              0.1111111111111111,
              "#46039f"
             ],
             [
              0.2222222222222222,
              "#7201a8"
             ],
             [
              0.3333333333333333,
              "#9c179e"
             ],
             [
              0.4444444444444444,
              "#bd3786"
             ],
             [
              0.5555555555555556,
              "#d8576b"
             ],
             [
              0.6666666666666666,
              "#ed7953"
             ],
             [
              0.7777777777777778,
              "#fb9f3a"
             ],
             [
              0.8888888888888888,
              "#fdca26"
             ],
             [
              1,
              "#f0f921"
             ]
            ],
            "type": "histogram2dcontour"
           }
          ],
          "mesh3d": [
           {
            "colorbar": {
             "outlinewidth": 0,
             "ticks": ""
            },
            "type": "mesh3d"
           }
          ],
          "parcoords": [
           {
            "line": {
             "colorbar": {
              "outlinewidth": 0,
              "ticks": ""
             }
            },
            "type": "parcoords"
           }
          ],
          "pie": [
           {
            "automargin": true,
            "type": "pie"
           }
          ],
          "scatter": [
           {
            "fillpattern": {
             "fillmode": "overlay",
             "size": 10,
             "solidity": 0.2
            },
            "type": "scatter"
           }
          ],
          "scatter3d": [
           {
            "line": {
             "colorbar": {
              "outlinewidth": 0,
              "ticks": ""
             }
            },
            "marker": {
             "colorbar": {
              "outlinewidth": 0,
              "ticks": ""
             }
            },
            "type": "scatter3d"
           }
          ],
          "scattercarpet": [
           {
            "marker": {
             "colorbar": {
              "outlinewidth": 0,
              "ticks": ""
             }
            },
            "type": "scattercarpet"
           }
          ],
          "scattergeo": [
           {
            "marker": {
             "colorbar": {
              "outlinewidth": 0,
              "ticks": ""
             }
            },
            "type": "scattergeo"
           }
          ],
          "scattergl": [
           {
            "marker": {
             "colorbar": {
              "outlinewidth": 0,
              "ticks": ""
             }
            },
            "type": "scattergl"
           }
          ],
          "scattermap": [
           {
            "marker": {
             "colorbar": {
              "outlinewidth": 0,
              "ticks": ""
             }
            },
            "type": "scattermap"
           }
          ],
          "scattermapbox": [
           {
            "marker": {
             "colorbar": {
              "outlinewidth": 0,
              "ticks": ""
             }
            },
            "type": "scattermapbox"
           }
          ],
          "scatterpolar": [
           {
            "marker": {
             "colorbar": {
              "outlinewidth": 0,
              "ticks": ""
             }
            },
            "type": "scatterpolar"
           }
          ],
          "scatterpolargl": [
           {
            "marker": {
             "colorbar": {
              "outlinewidth": 0,
              "ticks": ""
             }
            },
            "type": "scatterpolargl"
           }
          ],
          "scatterternary": [
           {
            "marker": {
             "colorbar": {
              "outlinewidth": 0,
              "ticks": ""
             }
            },
            "type": "scatterternary"
           }
          ],
          "surface": [
           {
            "colorbar": {
             "outlinewidth": 0,
             "ticks": ""
            },
            "colorscale": [
             [
              0,
              "#0d0887"
             ],
             [
              0.1111111111111111,
              "#46039f"
             ],
             [
              0.2222222222222222,
              "#7201a8"
             ],
             [
              0.3333333333333333,
              "#9c179e"
             ],
             [
              0.4444444444444444,
              "#bd3786"
             ],
             [
              0.5555555555555556,
              "#d8576b"
             ],
             [
              0.6666666666666666,
              "#ed7953"
             ],
             [
              0.7777777777777778,
              "#fb9f3a"
             ],
             [
              0.8888888888888888,
              "#fdca26"
             ],
             [
              1,
              "#f0f921"
             ]
            ],
            "type": "surface"
           }
          ],
          "table": [
           {
            "cells": {
             "fill": {
              "color": "#EBF0F8"
             },
             "line": {
              "color": "white"
             }
            },
            "header": {
             "fill": {
              "color": "#C8D4E3"
             },
             "line": {
              "color": "white"
             }
            },
            "type": "table"
           }
          ]
         },
         "layout": {
          "annotationdefaults": {
           "arrowcolor": "#2a3f5f",
           "arrowhead": 0,
           "arrowwidth": 1
          },
          "autotypenumbers": "strict",
          "coloraxis": {
           "colorbar": {
            "outlinewidth": 0,
            "ticks": ""
           }
          },
          "colorscale": {
           "diverging": [
            [
             0,
             "#8e0152"
            ],
            [
             0.1,
             "#c51b7d"
            ],
            [
             0.2,
             "#de77ae"
            ],
            [
             0.3,
             "#f1b6da"
            ],
            [
             0.4,
             "#fde0ef"
            ],
            [
             0.5,
             "#f7f7f7"
            ],
            [
             0.6,
             "#e6f5d0"
            ],
            [
             0.7,
             "#b8e186"
            ],
            [
             0.8,
             "#7fbc41"
            ],
            [
             0.9,
             "#4d9221"
            ],
            [
             1,
             "#276419"
            ]
           ],
           "sequential": [
            [
             0,
             "#0d0887"
            ],
            [
             0.1111111111111111,
             "#46039f"
            ],
            [
             0.2222222222222222,
             "#7201a8"
            ],
            [
             0.3333333333333333,
             "#9c179e"
            ],
            [
             0.4444444444444444,
             "#bd3786"
            ],
            [
             0.5555555555555556,
             "#d8576b"
            ],
            [
             0.6666666666666666,
             "#ed7953"
            ],
            [
             0.7777777777777778,
             "#fb9f3a"
            ],
            [
             0.8888888888888888,
             "#fdca26"
            ],
            [
             1,
             "#f0f921"
            ]
           ],
           "sequentialminus": [
            [
             0,
             "#0d0887"
            ],
            [
             0.1111111111111111,
             "#46039f"
            ],
            [
             0.2222222222222222,
             "#7201a8"
            ],
            [
             0.3333333333333333,
             "#9c179e"
            ],
            [
             0.4444444444444444,
             "#bd3786"
            ],
            [
             0.5555555555555556,
             "#d8576b"
            ],
            [
             0.6666666666666666,
             "#ed7953"
            ],
            [
             0.7777777777777778,
             "#fb9f3a"
            ],
            [
             0.8888888888888888,
             "#fdca26"
            ],
            [
             1,
             "#f0f921"
            ]
           ]
          },
          "colorway": [
           "#636efa",
           "#EF553B",
           "#00cc96",
           "#ab63fa",
           "#FFA15A",
           "#19d3f3",
           "#FF6692",
           "#B6E880",
           "#FF97FF",
           "#FECB52"
          ],
          "font": {
           "color": "#2a3f5f"
          },
          "geo": {
           "bgcolor": "white",
           "lakecolor": "white",
           "landcolor": "#E5ECF6",
           "showlakes": true,
           "showland": true,
           "subunitcolor": "white"
          },
          "hoverlabel": {
           "align": "left"
          },
          "hovermode": "closest",
          "mapbox": {
           "style": "light"
          },
          "paper_bgcolor": "white",
          "plot_bgcolor": "#E5ECF6",
          "polar": {
           "angularaxis": {
            "gridcolor": "white",
            "linecolor": "white",
            "ticks": ""
           },
           "bgcolor": "#E5ECF6",
           "radialaxis": {
            "gridcolor": "white",
            "linecolor": "white",
            "ticks": ""
           }
          },
          "scene": {
           "xaxis": {
            "backgroundcolor": "#E5ECF6",
            "gridcolor": "white",
            "gridwidth": 2,
            "linecolor": "white",
            "showbackground": true,
            "ticks": "",
            "zerolinecolor": "white"
           },
           "yaxis": {
            "backgroundcolor": "#E5ECF6",
            "gridcolor": "white",
            "gridwidth": 2,
            "linecolor": "white",
            "showbackground": true,
            "ticks": "",
            "zerolinecolor": "white"
           },
           "zaxis": {
            "backgroundcolor": "#E5ECF6",
            "gridcolor": "white",
            "gridwidth": 2,
            "linecolor": "white",
            "showbackground": true,
            "ticks": "",
            "zerolinecolor": "white"
           }
          },
          "shapedefaults": {
           "line": {
            "color": "#2a3f5f"
           }
          },
          "ternary": {
           "aaxis": {
            "gridcolor": "white",
            "linecolor": "white",
            "ticks": ""
           },
           "baxis": {
            "gridcolor": "white",
            "linecolor": "white",
            "ticks": ""
           },
           "bgcolor": "#E5ECF6",
           "caxis": {
            "gridcolor": "white",
            "linecolor": "white",
            "ticks": ""
           }
          },
          "title": {
           "x": 0.05
          },
          "xaxis": {
           "automargin": true,
           "gridcolor": "white",
           "linecolor": "white",
           "ticks": "",
           "title": {
            "standoff": 15
           },
           "zerolinecolor": "white",
           "zerolinewidth": 2
          },
          "yaxis": {
           "automargin": true,
           "gridcolor": "white",
           "linecolor": "white",
           "ticks": "",
           "title": {
            "standoff": 15
           },
           "zerolinecolor": "white",
           "zerolinewidth": 2
          }
         }
        },
        "title": {
         "text": "RELIANCE - Candlestick with RSI (14)"
        },
        "xaxis": {
         "anchor": "y",
         "domain": [
          0,
          1
         ],
         "matches": "x2",
         "rangeslider": {
          "visible": false
         },
         "showticklabels": false
        },
        "xaxis2": {
         "anchor": "y2",
         "domain": [
          0,
          1
         ]
        },
        "yaxis": {
         "anchor": "x",
         "domain": [
          0.33499999999999996,
          0.9999999999999999
         ]
        },
        "yaxis2": {
         "anchor": "x2",
         "domain": [
          0,
          0.285
         ]
        }
       }
      }
     },
     "metadata": {},
     "output_type": "display_data"
    }
   ],
   "source": [
    "# Plot a chart\n",
    "\n",
    "# Step 1: Create a figure with 2 rows (1 for price, 1 for RSI)\n",
    "fig = make_subplots(\n",
    "    rows=2, cols=1,\n",
    "    shared_xaxes=True,\n",
    "    vertical_spacing=0.05,\n",
    "    row_heights=[0.7, 0.3],\n",
    "    subplot_titles=(\"RELIANCE\", \"RSI Indicator\")\n",
    ")\n",
    "\n",
    "# Step 2: Candlestick chart (Row 1)\n",
    "fig.add_trace(go.Candlestick(\n",
    "    x=df.index,\n",
    "    open=df['Open'],\n",
    "    high=df['High'],\n",
    "    low=df['Low'],\n",
    "    close=df['Close'],\n",
    "    name='Candlestick'\n",
    "), row=1, col=1)\n",
    "\n",
    "# Step 3: RSI line (Row 2)\n",
    "fig.add_trace(go.Scatter(\n",
    "    x=df.index,\n",
    "    y=df['RSI'],\n",
    "    mode='lines',\n",
    "    name='RSI',\n",
    "    line=dict(color='blue')\n",
    "), row=2, col=1)\n",
    "\n",
    "# Step 4: Add RSI 30 and 70 lines\n",
    "fig.add_hline(y=70, line_dash=\"dash\", line_color=\"red\", row=2, col=1, annotation_text=\"Overbought (70)\")\n",
    "fig.add_hline(y=30, line_dash=\"dash\", line_color=\"green\", row=2, col=1, annotation_text=\"Oversold (30)\")\n",
    "\n",
    "# Step 5: Layout\n",
    "fig.update_layout(\n",
    "    title='RELIANCE - Candlestick with RSI (14)',\n",
    "    xaxis_rangeslider_visible=False,\n",
    "    height=800,\n",
    "    showlegend=False\n",
    ")\n",
    "\n",
    "fig.show()"
   ]
  }
 ],
 "metadata": {
  "kernelspec": {
   "display_name": "Python 3",
   "language": "python",
   "name": "python3"
  },
  "language_info": {
   "codemirror_mode": {
    "name": "ipython",
    "version": 3
   },
   "file_extension": ".py",
   "mimetype": "text/x-python",
   "name": "python",
   "nbconvert_exporter": "python",
   "pygments_lexer": "ipython3",
   "version": "3.10.2"
  }
 },
 "nbformat": 4,
 "nbformat_minor": 5
}
