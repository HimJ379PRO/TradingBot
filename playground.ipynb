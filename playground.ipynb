{
 "cells": [
  {
   "cell_type": "code",
   "execution_count": 2,
   "id": "020960bc",
   "metadata": {},
   "outputs": [],
   "source": [
    "# Import libraries and modules\n",
    "from SmartApi import SmartConnect\n",
    "import requests\n",
    "import json\n",
    "from config.config import API_KEY, SECRET_KEY"
   ]
  },
  {
   "cell_type": "code",
   "execution_count": null,
   "id": "371d4bf8",
   "metadata": {},
   "outputs": [],
   "source": [
    "# Connect to SmartAPI\n",
    "obj = SmartConnect(api_key = API_KEY)\n",
    "\n",
    "#login api call\n",
    "\n",
    "data = obj.generateSession(\"Your Client ID\",\"Your Password\",\"Your totp\")\n",
    "\n",
    "# Get RELIANCE - OHLC - D - 2020 to NOW()\n",
    "url = \"https://apiconnect.angelone.in/rest/secure/angelbroking/historical/v1/getCandleData\"\n",
    "headers = {\n",
    "    \"Authorization\": \"Bearer YOUR_TOKEN\",\n",
    "    \"X-PrivateKey\": \"API_KEY\",\n",
    "    \"X-ClientLocalIP\": \"192.168.1.2\",\n",
    "    \"X-ClientPublicIP\": \"123.45.67.89\",\n",
    "    \"X-MACAddress\": \"AA:BB:CC:DD:EE:FF\",\n",
    "    \"X-UserType\": \"USER\",\n",
    "    \"X-SourceID\": \"WEB\",\n",
    "    \"Content-Type\": \"application/json\"\n",
    "}\n",
    "payload = {\n",
    "    \"exchange\": \"NSE\",\n",
    "    \"symboltoken\": \"2885\",\n",
    "    \"interval\": \"ONE_DAY\",\n",
    "    \"fromdate\": \"2025-04-01 09:00\",\n",
    "    \"todate\": \"2025-04-11 22:00\"\n",
    "}\n",
    "\n",
    "'''\n",
    "NOTE:\n",
    "In Get Candle Data Request fromdate and todate format should be \"yyyy-MM-dd hh:mm\"\n",
    "The response is an array of records, where each record in turn is an array of the following values — [timestamp, open, high, low, close, volume].\n",
    "'''"
   ]
  },
  {
   "cell_type": "code",
   "execution_count": null,
   "id": "f6c47f55",
   "metadata": {},
   "outputs": [],
   "source": [
    "response = requests.post(url, headers=headers, data=json.dumps(payload))\n",
    "print(response.json())"
   ]
  }
 ],
 "metadata": {
  "kernelspec": {
   "display_name": "Python 3",
   "language": "python",
   "name": "python3"
  },
  "language_info": {
   "codemirror_mode": {
    "name": "ipython",
    "version": 3
   },
   "file_extension": ".py",
   "mimetype": "text/x-python",
   "name": "python",
   "nbconvert_exporter": "python",
   "pygments_lexer": "ipython3",
   "version": "3.10.2"
  }
 },
 "nbformat": 4,
 "nbformat_minor": 5
}
