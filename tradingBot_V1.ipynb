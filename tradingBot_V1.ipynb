{
 "cells": [
  {
   "cell_type": "markdown",
   "id": "c2570209",
   "metadata": {},
   "source": [
    "# Trading Bot"
   ]
  },
  {
   "cell_type": "code",
   "execution_count": 1,
   "id": "b916db52",
   "metadata": {},
   "outputs": [],
   "source": [
    "from datetime import datetime\n",
    "import os\n",
    "import time\n",
    "\n",
    "import schedule\n",
    "import pandas as pd\n",
    "import pandas_ta as ta\n",
    "\n",
    "from utilities.charting import plot_candlesticks_RSI_chart\n",
    "from utilities.getData_YahooFinanace import update_daily_data, update_60m_data, update_5m_data\n",
    "from utilities.indicators import calculate_rsi"
   ]
  },
  {
   "cell_type": "code",
   "execution_count": 2,
   "id": "20d191a6",
   "metadata": {},
   "outputs": [],
   "source": [
    "# Set Global Variables\n",
    "tickers = [\"RELIANCE.NS\",\"AAPL\"]"
   ]
  },
  {
   "cell_type": "markdown",
   "id": "2b9c06cb",
   "metadata": {},
   "source": [
    "### ⚙️ Data Update + Indicator Calculation\n",
    "\n",
    "This function:\n",
    "- Updates raw daily and intraday data\n",
    "- Computes RSI and EMA indicators using `pandas_ta`\n",
    "- Saves the output to `data/processed/`"
   ]
  },
  {
   "cell_type": "code",
   "execution_count": 4,
   "id": "380243d7",
   "metadata": {},
   "outputs": [],
   "source": [
    "def update_data_and_calculate_indicators(tickers):\n",
    "    # Update data\n",
    "    update_daily_data(tickers)\n",
    "    update_60m_data(tickers)\n",
    "\n",
    "    # Ensure processed folder exists\n",
    "    os.makedirs(\"data/processed\", exist_ok=True)\n",
    "\n",
    "    for ticker in tickers:\n",
    "        try:\n",
    "            # === 60m Data Processing ===\n",
    "            df_60m = pd.read_csv(f\"data/raw/{ticker}_60m.csv\", parse_dates=['Datetime'], index_col='Datetime')\n",
    "            df_60m.ta.ema(length=20, append=True)\n",
    "            df_60m.ta.ema(length=200, append=True)\n",
    "            df_60m.ta.rsi(length=14, append=True)\n",
    "            df_60m.ta.rsi(length=8, append=True)\n",
    "            df_60m.to_csv(f\"data/processed/{ticker}_60m.csv\")\n",
    "            print(f\"✅ 60m indicators added for {ticker}\")\n",
    "\n",
    "            # === Daily Data Processing ===\n",
    "            df_daily = pd.read_csv(f\"data/raw/{ticker}_D.csv\", parse_dates=['Date'], index_col='Date')\n",
    "            df_daily.ta.ema(length=20, append=True)\n",
    "            df_daily.ta.ema(length=200, append=True)\n",
    "            df_daily.ta.rsi(length=14, append=True)\n",
    "            df_daily.ta.rsi(length=8, append=True)\n",
    "            df_daily.to_csv(f\"data/processed/{ticker}_D.csv\")\n",
    "            print(f\"✅ Daily indicators added for {ticker}\")\n",
    "\n",
    "        except Exception as e:\n",
    "            print(f\"❌ Error processing {ticker}: {e}\")\n",
    "        \n",
    "    "
   ]
  },
  {
   "cell_type": "markdown",
   "id": "f74dd9d1",
   "metadata": {},
   "source": [
    "### Scheduled Runs"
   ]
  },
  {
   "cell_type": "code",
   "execution_count": 3,
   "id": "10680a94",
   "metadata": {},
   "outputs": [
    {
     "name": "stdout",
     "output_type": "stream",
     "text": [
      "⬇️ Downloading RELIANCE.NS 5m data from 2025-03-08 11:10:51.396334 to 2025-05-02 11:10:00...\n",
      "YF.download() has changed argument auto_adjust default to True\n"
     ]
    },
    {
     "name": "stderr",
     "output_type": "stream",
     "text": [
      "[*********************100%***********************]  1 of 1 completed\n"
     ]
    },
    {
     "name": "stdout",
     "output_type": "stream",
     "text": [
      "✅ RELIANCE.NS 5m updated with 2493 new rows at 11:10:51.396334.\n",
      "⬇️ Downloading AAPL 5m data from 2025-03-08 11:10:51.396334 to 2025-05-02 11:10:00...\n"
     ]
    },
    {
     "name": "stderr",
     "output_type": "stream",
     "text": [
      "[*********************100%***********************]  1 of 1 completed\n"
     ]
    },
    {
     "name": "stdout",
     "output_type": "stream",
     "text": [
      "✅ AAPL 5m updated with 2964 new rows at 11:10:51.396334.\n"
     ]
    },
    {
     "name": "stderr",
     "output_type": "stream",
     "text": [
      "[*********************100%***********************]  1 of 1 completed"
     ]
    },
    {
     "name": "stdout",
     "output_type": "stream",
     "text": [
      "⬇️ Downloading RELIANCE.NS 5m data from 2025-05-02 11:05:00 to 2025-05-02 11:15:00...\n",
      "✅ RELIANCE.NS 5m updated with 1 new rows at 11:15:52.475165.\n",
      "⬇️ Downloading AAPL 5m data from 2025-05-01 15:55:00 to 2025-05-02 11:15:00...\n"
     ]
    },
    {
     "name": "stderr",
     "output_type": "stream",
     "text": [
      "\n",
      "[*********************100%***********************]  1 of 1 completed\n"
     ]
    },
    {
     "name": "stdout",
     "output_type": "stream",
     "text": [
      "✅ AAPL 5m is already up to date. No new rows added.\n",
      "⬇️ Downloading RELIANCE.NS 5m data from 2025-05-02 11:10:00 to 2025-05-02 11:20:00...\n"
     ]
    },
    {
     "name": "stderr",
     "output_type": "stream",
     "text": [
      "[*********************100%***********************]  1 of 1 completed\n",
      "[*********************100%***********************]  1 of 1 completed\n"
     ]
    },
    {
     "name": "stdout",
     "output_type": "stream",
     "text": [
      "✅ RELIANCE.NS 5m updated with 1 new rows at 11:20:52.877717.\n",
      "⬇️ Downloading AAPL 5m data from 2025-05-01 15:55:00 to 2025-05-02 11:20:00...\n",
      "✅ AAPL 5m is already up to date. No new rows added.\n",
      "\n",
      "🛑 Scheduler stopped by user. Goodbye!\n"
     ]
    }
   ],
   "source": [
    "# Clear any old jobs\n",
    "schedule.clear()\n",
    "\n",
    "# Update Daily and Intraday data\n",
    "try:\n",
    "    # Schedule daily data update\n",
    "    # schedule.every().day.at(\"10:00\").do(update_daily_data, tickers)\n",
    "    # schedule.every().day.at(\"14:00\").do(update_daily_data, tickers)\n",
    "    # Update 60m data\n",
    "    # schedule.every(5).minutes.do(update_60m_data, tickers)\n",
    "    # Update 5m data\n",
    "    schedule.every(5).minutes.do(update_5m_data, tickers)\n",
    "\n",
    "    while True:\n",
    "        schedule.run_pending()\n",
    "        time.sleep(60)  # Sleep for 60 seconds\n",
    "except KeyboardInterrupt:\n",
    "    print(\"\\n🛑 Scheduler stopped by user. Goodbye!\")"
   ]
  },
  {
   "cell_type": "markdown",
   "id": "85cf8f9e",
   "metadata": {},
   "source": [
    "### Manual Runs"
   ]
  },
  {
   "cell_type": "code",
   "execution_count": 5,
   "id": "5dd468f5",
   "metadata": {},
   "outputs": [
    {
     "name": "stdout",
     "output_type": "stream",
     "text": [
      "⬇️ Downloading RELIANCE.NS from 2025-05-01 to 2025-05-01...\n"
     ]
    },
    {
     "name": "stderr",
     "output_type": "stream",
     "text": [
      "[*********************100%***********************]  1 of 1 completed\n",
      "\n",
      "1 Failed download:\n",
      "['RELIANCE.NS']: YFPricesMissingError('possibly delisted; no price data found  (1d 2025-05-01 00:00:00 -> 2025-05-01 13:44:37.067632)')\n"
     ]
    },
    {
     "name": "stdout",
     "output_type": "stream",
     "text": [
      "⚠️ No new data downloaded for 'RELIANCE.NS'.\n",
      "⬇️ Downloading AAPL from 2025-05-01 to 2025-05-01...\n"
     ]
    },
    {
     "name": "stderr",
     "output_type": "stream",
     "text": [
      "[*********************100%***********************]  1 of 1 completed\n",
      "[*********************100%***********************]  1 of 1 completed\n"
     ]
    },
    {
     "name": "stdout",
     "output_type": "stream",
     "text": [
      "✅ AAPL updated with 1 new rows at 13:44:37.067632.\n",
      "⬇️ Downloading RELIANCE.NS from 2025-04-30 15:15:00 to 2025-05-02 13:15:00...\n",
      "✅ RELIANCE.NS updated with 4 new rows at 13:44:37.685059.\n",
      "⬇️ Downloading AAPL from 2025-04-30 12:30:00 to 2025-05-02 13:15:00...\n"
     ]
    },
    {
     "name": "stderr",
     "output_type": "stream",
     "text": [
      "[*********************100%***********************]  1 of 1 completed\n"
     ]
    },
    {
     "name": "stdout",
     "output_type": "stream",
     "text": [
      "✅ AAPL updated with 10 new rows at 13:44:37.685059.\n",
      "✅ 60m indicators added for RELIANCE.NS\n",
      "✅ Daily indicators added for RELIANCE.NS\n",
      "✅ 60m indicators added for AAPL\n",
      "✅ Daily indicators added for AAPL\n"
     ]
    }
   ],
   "source": [
    "# Update the data and calculate indicators\n",
    "update_data_and_calculate_indicators(tickers)"
   ]
  },
  {
   "cell_type": "code",
   "execution_count": null,
   "id": "7cd31c9d",
   "metadata": {},
   "outputs": [],
   "source": [
    "# Update the Daily data\n",
    "update_daily_data(tickers)"
   ]
  },
  {
   "cell_type": "code",
   "execution_count": null,
   "id": "6b35b531",
   "metadata": {},
   "outputs": [],
   "source": [
    "# Update the 60m data\n",
    "update_60m_data(tickers)"
   ]
  },
  {
   "cell_type": "markdown",
   "id": "330bc5f0",
   "metadata": {},
   "source": [
    "### Charts"
   ]
  },
  {
   "cell_type": "code",
   "execution_count": null,
   "id": "9ad5516b",
   "metadata": {},
   "outputs": [],
   "source": [
    "df = pd.read_csv(\"data/processed/RELIANCE.NS_60m.csv\", parse_dates=['Datetime'], index_col='Datetime').tail(200)"
   ]
  },
  {
   "cell_type": "code",
   "execution_count": null,
   "id": "9bfd7d66",
   "metadata": {},
   "outputs": [],
   "source": [
    "plot_candlesticks_RSI_chart(df)"
   ]
  },
  {
   "cell_type": "code",
   "execution_count": null,
   "id": "bab70107",
   "metadata": {},
   "outputs": [],
   "source": [
    "plot_candlesticks_RSI_chart(df, 8)"
   ]
  }
 ],
 "metadata": {
  "kernelspec": {
   "display_name": "Python 3",
   "language": "python",
   "name": "python3"
  },
  "language_info": {
   "codemirror_mode": {
    "name": "ipython",
    "version": 3
   },
   "file_extension": ".py",
   "mimetype": "text/x-python",
   "name": "python",
   "nbconvert_exporter": "python",
   "pygments_lexer": "ipython3",
   "version": "3.10.2"
  }
 },
 "nbformat": 4,
 "nbformat_minor": 5
}
