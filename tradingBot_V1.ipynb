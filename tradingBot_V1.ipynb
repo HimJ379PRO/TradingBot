{
 "cells": [
  {
   "cell_type": "markdown",
   "id": "c2570209",
   "metadata": {},
   "source": [
    "# Trading Bot"
   ]
  },
  {
   "cell_type": "code",
   "execution_count": 5,
   "id": "b916db52",
   "metadata": {},
   "outputs": [],
   "source": [
    "from datetime import datetime\n",
    "import os\n",
    "import time\n",
    "\n",
    "import schedule\n",
    "\n",
    "from utilities.charting import plot_candlesticks_RSI_chart\n",
    "from utilities.getData_YahooFinanace import update_daily_data, update_60m_data\n",
    "from utilities.indicators import calculate_rsi"
   ]
  },
  {
   "cell_type": "code",
   "execution_count": 2,
   "id": "20d191a6",
   "metadata": {},
   "outputs": [],
   "source": [
    "# Set Global Variables\n",
    "tickers = [\"RELIANCE.NS\",\"AAPL\"]"
   ]
  },
  {
   "cell_type": "markdown",
   "id": "2b9c06cb",
   "metadata": {},
   "source": [
    "**Download data and Calculate RSI**"
   ]
  },
  {
   "cell_type": "code",
   "execution_count": null,
   "id": "380243d7",
   "metadata": {},
   "outputs": [],
   "source": [
    "\n",
    "        \n",
    "    "
   ]
  },
  {
   "cell_type": "markdown",
   "id": "f74dd9d1",
   "metadata": {},
   "source": [
    "### Scheduled Runs"
   ]
  },
  {
   "cell_type": "code",
   "execution_count": 6,
   "id": "10680a94",
   "metadata": {},
   "outputs": [
    {
     "name": "stderr",
     "output_type": "stream",
     "text": [
      "[*********************100%***********************]  1 of 1 completed"
     ]
    },
    {
     "name": "stdout",
     "output_type": "stream",
     "text": [
      "⬇️ Downloading RELIANCE.NS from 2025-04-30 09:15:00 to 2025-04-30 10:15:00...\n",
      "✅ RELIANCE.NS is already up to date. No new rows added.\n",
      "⬇️ Downloading AAPL from 2025-04-29 15:30:00 to 2025-04-30 10:15:00...\n"
     ]
    },
    {
     "name": "stderr",
     "output_type": "stream",
     "text": [
      "\n",
      "[*********************100%***********************]  1 of 1 completed\n"
     ]
    },
    {
     "name": "stdout",
     "output_type": "stream",
     "text": [
      "✅ AAPL is already up to date. No new rows added.\n"
     ]
    },
    {
     "name": "stderr",
     "output_type": "stream",
     "text": [
      "[*********************100%***********************]  1 of 1 completed"
     ]
    },
    {
     "name": "stdout",
     "output_type": "stream",
     "text": [
      "⬇️ Downloading RELIANCE.NS from 2025-04-30 09:15:00 to 2025-04-30 10:15:00...\n",
      "✅ RELIANCE.NS is already up to date. No new rows added.\n",
      "⬇️ Downloading AAPL from 2025-04-29 15:30:00 to 2025-04-30 10:15:00...\n"
     ]
    },
    {
     "name": "stderr",
     "output_type": "stream",
     "text": [
      "\n",
      "[*********************100%***********************]  1 of 1 completed\n"
     ]
    },
    {
     "name": "stdout",
     "output_type": "stream",
     "text": [
      "✅ AAPL is already up to date. No new rows added.\n"
     ]
    },
    {
     "name": "stderr",
     "output_type": "stream",
     "text": [
      "[*********************100%***********************]  1 of 1 completed"
     ]
    },
    {
     "name": "stdout",
     "output_type": "stream",
     "text": [
      "⬇️ Downloading RELIANCE.NS from 2025-04-30 09:15:00 to 2025-04-30 11:15:00...\n"
     ]
    },
    {
     "name": "stderr",
     "output_type": "stream",
     "text": [
      "\n",
      "[*********************100%***********************]  1 of 1 completed\n"
     ]
    },
    {
     "name": "stdout",
     "output_type": "stream",
     "text": [
      "✅ RELIANCE.NS updated with 1 new rows at 11:17:57.615170.\n",
      "⬇️ Downloading AAPL from 2025-04-29 15:30:00 to 2025-04-30 11:15:00...\n",
      "✅ AAPL is already up to date. No new rows added.\n",
      "\n",
      "🛑 Scheduler stopped by user. Goodbye!\n"
     ]
    }
   ],
   "source": [
    "# Clear any old jobs\n",
    "schedule.clear()\n",
    "\n",
    "# Update Daily and Intraday data\n",
    "try:\n",
    "    # Schedule daily data update\n",
    "    schedule.every().day.at(\"10:00\").do(update_daily_data, tickers)\n",
    "    schedule.every().day.at(\"14:00\").do(update_daily_data, tickers)\n",
    "    # Update 60m data\n",
    "    schedule.every(5).minutes.do(update_60m_data, tickers)\n",
    "\n",
    "    while True:\n",
    "        schedule.run_pending()\n",
    "        time.sleep(60)  # Sleep for 60 seconds\n",
    "except KeyboardInterrupt:\n",
    "    print(\"\\n🛑 Scheduler stopped by user. Goodbye!\")"
   ]
  },
  {
   "cell_type": "markdown",
   "id": "85cf8f9e",
   "metadata": {},
   "source": [
    "### Manual Runs"
   ]
  },
  {
   "cell_type": "code",
   "execution_count": 4,
   "id": "7cd31c9d",
   "metadata": {},
   "outputs": [
    {
     "name": "stdout",
     "output_type": "stream",
     "text": [
      "⬇️ Downloading RELIANCE.NS from 2025-04-29 to 2025-04-29...\n"
     ]
    },
    {
     "name": "stderr",
     "output_type": "stream",
     "text": [
      "[*********************100%***********************]  1 of 1 completed\n",
      "[*********************100%***********************]  1 of 1 completed"
     ]
    },
    {
     "name": "stdout",
     "output_type": "stream",
     "text": [
      "✅ RELIANCE.NS updated with 1 new rows at 18:24:41.149568.\n",
      "⬇️ Downloading AAPL from 2025-04-29 to 2025-04-29...\n",
      "✅ AAPL is already up to date. No new rows to add.\n"
     ]
    },
    {
     "name": "stderr",
     "output_type": "stream",
     "text": [
      "\n"
     ]
    }
   ],
   "source": [
    "# Update the Daily data\n",
    "update_daily_data(tickers)"
   ]
  },
  {
   "cell_type": "code",
   "execution_count": 3,
   "id": "6b35b531",
   "metadata": {},
   "outputs": [
    {
     "name": "stdout",
     "output_type": "stream",
     "text": [
      "⬇️ Downloading RELIANCE.NS from 2025-04-28 15:15:00 to 2025-04-29 17:15:00...\n",
      "YF.download() has changed argument auto_adjust default to True\n"
     ]
    },
    {
     "name": "stderr",
     "output_type": "stream",
     "text": [
      "[*********************100%***********************]  1 of 1 completed\n",
      "[*********************100%***********************]  1 of 1 completed"
     ]
    },
    {
     "name": "stdout",
     "output_type": "stream",
     "text": [
      "✅ RELIANCE.NS updated with 7 new rows.\n",
      "⬇️ Downloading AAPL from 2025-04-28 15:30:00 to 2025-04-29 17:15:00...\n",
      "✅ AAPL is already up to date. No new rows added.\n"
     ]
    },
    {
     "name": "stderr",
     "output_type": "stream",
     "text": [
      "\n"
     ]
    }
   ],
   "source": [
    "# Update the 60m data\n",
    "update_60m_data(tickers)"
   ]
  }
 ],
 "metadata": {
  "kernelspec": {
   "display_name": "Python 3",
   "language": "python",
   "name": "python3"
  },
  "language_info": {
   "codemirror_mode": {
    "name": "ipython",
    "version": 3
   },
   "file_extension": ".py",
   "mimetype": "text/x-python",
   "name": "python",
   "nbconvert_exporter": "python",
   "pygments_lexer": "ipython3",
   "version": "3.10.2"
  }
 },
 "nbformat": 4,
 "nbformat_minor": 5
}
