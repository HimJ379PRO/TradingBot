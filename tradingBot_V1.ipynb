{
 "cells": [
  {
   "cell_type": "markdown",
   "id": "c2570209",
   "metadata": {},
   "source": [
    "# Trading Bot"
   ]
  },
  {
   "cell_type": "code",
   "execution_count": 11,
   "id": "b916db52",
   "metadata": {},
   "outputs": [],
   "source": [
    "from datetime import datetime\n",
    "import os\n",
    "import time\n",
    "\n",
    "from apscheduler.schedulers.background import BackgroundScheduler\n",
    "import pandas as pd\n",
    "import pandas_ta as ta\n",
    "\n",
    "from utilities.charting import plot_candlesticks_RSI_chart\n",
    "from utilities.getData_YahooFinanace import update_daily_data, update_60m_data, update_5m_data\n",
    "from utilities.telegram_alerts import send_message_to_telegram_group\n",
    "\n",
    "from strategies.signal_generators import generate_rsi_ema_long_short_signals, generate_exit_signals\n"
   ]
  },
  {
   "cell_type": "code",
   "execution_count": 12,
   "id": "20d191a6",
   "metadata": {},
   "outputs": [],
   "source": [
    "# Set Global Variables\n",
    "tickers = [\"RELIANCE.NS\",\"AAPL\",\"ADANIPORTS.NS\",\"^NSEI\"]"
   ]
  },
  {
   "cell_type": "markdown",
   "id": "2b9c06cb",
   "metadata": {},
   "source": [
    "### ⚙️ Data Update + Indicator Calculation\n",
    "\n",
    "This function:\n",
    "- Updates raw daily and intraday data\n",
    "- Computes RSI and EMA indicators using `pandas_ta`\n",
    "- Saves the output to `data/processed/`"
   ]
  },
  {
   "cell_type": "code",
   "execution_count": 13,
   "id": "380243d7",
   "metadata": {},
   "outputs": [],
   "source": [
    "def update_data_and_calculate_indicators(tickers):\n",
    "    # Update data\n",
    "    update_daily_data(tickers)\n",
    "    update_60m_data(tickers)\n",
    "\n",
    "    for ticker in tickers:\n",
    "        try:\n",
    "            # === 60m Data Processing ===\n",
    "            df_60m = pd.read_csv(f\"data/raw/{ticker}_60m.csv\", parse_dates=['Datetime'], index_col='Datetime')\n",
    "            df_60m.ta.ema(length=20, append=True)\n",
    "            df_60m.ta.ema(length=200, append=True)\n",
    "            df_60m.ta.rsi(length=14, append=True)\n",
    "            df_60m.ta.rsi(length=8, append=True)\n",
    "            df_60m.to_csv(f\"data/indicators/{ticker}_60m.csv\")\n",
    "            print(f\"✅ 60m indicators added for {ticker}\")\n",
    "\n",
    "            # === Daily Data Processing ===\n",
    "            df_daily = pd.read_csv(f\"data/raw/{ticker}_D.csv\", parse_dates=['Date'], index_col='Date')\n",
    "            df_daily.ta.ema(length=20, append=True)\n",
    "            df_daily.ta.ema(length=200, append=True)\n",
    "            df_daily.ta.rsi(length=14, append=True)\n",
    "            df_daily.ta.rsi(length=8, append=True)\n",
    "            df_daily.to_csv(f\"data/indicators/{ticker}_D.csv\")\n",
    "            print(f\"✅ Daily indicators added for {ticker}\")\n",
    "\n",
    "        except Exception as e:\n",
    "            print(f\"❌ Error processing {ticker}: {e}\")"
   ]
  },
  {
   "cell_type": "markdown",
   "id": "3763afd8",
   "metadata": {},
   "source": [
    "### Generate Signals"
   ]
  },
  {
   "cell_type": "code",
   "execution_count": 14,
   "id": "a903a0c4",
   "metadata": {},
   "outputs": [],
   "source": [
    "def run_signals_generator(tickers):\n",
    "    \"\"\"\n",
    "    Processes a list of tickers to generate trading signals based on RSI and EMA crossover strategy.\n",
    "\n",
    "    For each ticker:\n",
    "    - Loads the 60-minute indicators data from 'data/indicators/{ticker}_60m.csv'.\n",
    "    - Applies the RSI-EMA signal generator.\n",
    "    - Saves the resulting DataFrame with signals to 'data/signals/{ticker}_60m.csv'.\n",
    "\n",
    "    Parameters:\n",
    "        ticker_list (list of str): List of ticker symbols to process.\n",
    "\n",
    "    Returns:\n",
    "        None\n",
    "    \"\"\"\n",
    "    os.makedirs(\"data/signals\", exist_ok=True)  # Ensure output directory exists\n",
    "\n",
    "    for ticker in tickers:\n",
    "        try:\n",
    "            file_path = f\"data/indicators/{ticker}_60m.csv\"\n",
    "            df = pd.read_csv(file_path, parse_dates=['Datetime'], index_col='Datetime')\n",
    "\n",
    "            # Step 1: Generate Entry Signals\n",
    "            df = generate_rsi_ema_long_short_signals(df, rsi_column='RSI_8', ema_column='EMA_20')\n",
    "\n",
    "            # Step 2: Generate Exit Signals\n",
    "            df = generate_exit_signals(df, rsi_column='RSI_8', entry_signal_column='Entry Signal')\n",
    "\n",
    "            # Step 3: Save the DataFrame with both entry & exit signals\n",
    "            output_path = f\"data/signals/{ticker}_60m.csv\"\n",
    "            df.to_csv(output_path)\n",
    "            print(f\"✅ 60m Signals (entry + exit) generated and saved for {ticker}\")\n",
    "\n",
    "        except Exception as e:\n",
    "            print(f\"❌ Failed for {ticker}: {e}\")"
   ]
  },
  {
   "cell_type": "markdown",
   "id": "716f0313",
   "metadata": {},
   "source": [
    "### Send Alerts to Telegram"
   ]
  },
  {
   "cell_type": "code",
   "execution_count": 15,
   "id": "651cc939",
   "metadata": {},
   "outputs": [],
   "source": [
    "def send_alerts_to_telegram(tickers):\n",
    "    \"\"\"\n",
    "    Sends Telegram alerts for:\n",
    "    - New trade entries\n",
    "    - Live MTM updates (every hour)\n",
    "    - Trade exits (profit booked or stop-loss hit)\n",
    "\n",
    "    Parameters:\n",
    "        tickers (list): List of ticker symbols.\n",
    "    \"\"\"\n",
    "    for ticker in tickers:\n",
    "        try:\n",
    "            file_path = f\"data/signals/{ticker}_60m.csv\"\n",
    "            df = pd.read_csv(file_path, parse_dates=['Datetime'], index_col='Datetime')\n",
    "            latest_row = df.iloc[-1]\n",
    "\n",
    "            signal = latest_row.get(\"Entry Signal\")\n",
    "            trade_status = latest_row.get(\"Trade_Status\")\n",
    "            exit_reason = latest_row.get(\"Exit_Reason\")\n",
    "            alert_sent = latest_row.get(\"Alert_Sent\")\n",
    "            last_close = latest_row.get(\"Close\")\n",
    "\n",
    "            message = None\n",
    "\n",
    "            # === Entry Alert ===\n",
    "            if pd.notnull(signal) and pd.isnull(alert_sent):\n",
    "                message = (\n",
    "                    f\"*Entry Alert*\\n\"\n",
    "                    f\"Stock: {ticker}\\n\"\n",
    "                    f\"Signal: {signal} 📊\\n\"\n",
    "                    f\"Strategy: RSI-EMA Confirmation\\n\"\n",
    "                    f\"Go {'📈 Long' if 'Long' in signal else '📉 Short'} at {last_close:.2f}\"\n",
    "                )\n",
    "\n",
    "            # === Exit Alert ===\n",
    "            elif trade_status == \"Exited\" and pd.isnull(alert_sent):\n",
    "                message = (\n",
    "                    f\"*Exit Alert*\\n\"\n",
    "                    f\"Stock: {ticker}\\n\"\n",
    "                    f\"Status: {exit_reason} ✅\\n\"\n",
    "                    f\"Exit Price: {last_close:.2f}\"\n",
    "                )\n",
    "\n",
    "            # === Live Trade Status Update ===\n",
    "            elif isinstance(trade_status, str) and (\"Long:\" in trade_status or \"Short:\" in trade_status) and pd.isnull(alert_sent):\n",
    "                message = (\n",
    "                    f\"⏱ *Live MTM Update*\\n\"\n",
    "                    f\"Stock: {ticker}\\n\"\n",
    "                    f\"Status: {trade_status.split(':')[0]}\\n\"\n",
    "                    f\"MTM: {trade_status.split(':')[1]}\\n\"\n",
    "                    f\"Last Price: {last_close:.2f}\"\n",
    "                )\n",
    "\n",
    "            # Send and update if a message was created\n",
    "            if message:\n",
    "                send_message_to_telegram_group(message)\n",
    "                df.at[df.index[-1], \"Alert_Sent\"] = datetime.now().strftime(\"%Y-%m-%d %H:%M\")\n",
    "                df.to_csv(file_path)\n",
    "                print(f\"✅ Alert sent for {ticker}\")\n",
    "\n",
    "        except Exception as e:\n",
    "            print(f\"❌ Failed to process {ticker}: {e}\")"
   ]
  },
  {
   "cell_type": "markdown",
   "id": "2482d192",
   "metadata": {},
   "source": [
    "### Trading Bot Core Function"
   ]
  },
  {
   "cell_type": "code",
   "execution_count": 16,
   "id": "c60dc746",
   "metadata": {},
   "outputs": [],
   "source": [
    "from IPython.display import clear_output\n",
    "\n",
    "def run_trading_bot(tickers: list[str]) -> None:\n",
    "    \"\"\"\n",
    "    Runs the full trading bot workflow:\n",
    "    1. Updates market data and computes indicators.\n",
    "    2. Generates trading signals.\n",
    "    3. Sends alerts to Telegram for valid signals.\n",
    "\n",
    "    Parameters:\n",
    "        tickers (list[str]): List of stock tickers to process.\n",
    "    \"\"\"\n",
    "    clear_output(wait=True)  # Clears the notebook cell output\n",
    "    \n",
    "    print(f\"\\n🕒 Trading Bot started at {datetime.now().strftime('%Y-%m-%d %H:%M:%S')}\")\n",
    "\n",
    "    try:\n",
    "        # Step 1: Update data and calculate indicators\n",
    "        update_data_and_calculate_indicators(tickers)\n",
    "    except Exception as e:\n",
    "        print(f\"❌ Failed during data update: {e}\")\n",
    "\n",
    "    try:\n",
    "        # Step 2: Generate signals\n",
    "        run_signals_generator(tickers)\n",
    "    except Exception as e:\n",
    "        print(f\"❌ Failed during signal generation: {e}\")\n",
    "\n",
    "    try:\n",
    "        # Step 3: Send alerts to Telegram\n",
    "        send_alerts_to_telegram(tickers)\n",
    "    except Exception as e:\n",
    "        print(f\"❌ Failed during sending alerts: {e}\")"
   ]
  },
  {
   "cell_type": "markdown",
   "id": "f74dd9d1",
   "metadata": {},
   "source": [
    "### Scheduled Runs"
   ]
  },
  {
   "cell_type": "code",
   "execution_count": 17,
   "id": "a82be3ae",
   "metadata": {},
   "outputs": [],
   "source": [
    "def start_scheduler():\n",
    "    \"\"\"\n",
    "    Initializes and starts the APScheduler to run the trading bot at the xxth minute of every hour.\n",
    "    Keeps the script running indefinitely until interrupted.\n",
    "    \"\"\"\n",
    "    scheduler = BackgroundScheduler()\n",
    "    scheduler.add_job(run_trading_bot, 'cron', args=[tickers], minute=16, id='trading_bot_job', name='Hourly Trading Bot Job')\n",
    "    scheduler.start()\n",
    "    print(\"✅ APScheduler started. Trading bot will run at the 16th minute of every hour.\")\n",
    "\n",
    "    try:\n",
    "        # Keep the script running\n",
    "        while True:\n",
    "            time.sleep(45)\n",
    "    except (KeyboardInterrupt, SystemExit):\n",
    "        print(\"⛔ Scheduler stopped.\")\n",
    "        scheduler.shutdown()"
   ]
  },
  {
   "cell_type": "code",
   "execution_count": 18,
   "id": "08cc333b",
   "metadata": {},
   "outputs": [
    {
     "name": "stdout",
     "output_type": "stream",
     "text": [
      "\n",
      "🕒 Trading Bot started at 2025-05-07 12:16:00\n",
      "⬇️ Downloading RELIANCE.NS Daily data from 2025-05-06 to 2025-05-06...\n",
      "YF.download() has changed argument auto_adjust default to True\n"
     ]
    },
    {
     "name": "stderr",
     "output_type": "stream",
     "text": [
      "[*********************100%***********************]  1 of 1 completed\n"
     ]
    },
    {
     "name": "stdout",
     "output_type": "stream",
     "text": [
      "✅ RELIANCE.NS Daily data is already up to date. No new rows to add.\n",
      "⬇️ Downloading AAPL Daily data from 2025-05-06 to 2025-05-06...\n"
     ]
    },
    {
     "name": "stderr",
     "output_type": "stream",
     "text": [
      "[*********************100%***********************]  1 of 1 completed\n"
     ]
    },
    {
     "name": "stdout",
     "output_type": "stream",
     "text": [
      "✅ AAPL Daily data is already up to date. No new rows to add.\n",
      "⬇️ Downloading ADANIPORTS.NS Daily data from 2025-05-06 to 2025-05-06...\n"
     ]
    },
    {
     "name": "stderr",
     "output_type": "stream",
     "text": [
      "[*********************100%***********************]  1 of 1 completed\n"
     ]
    },
    {
     "name": "stdout",
     "output_type": "stream",
     "text": [
      "✅ ADANIPORTS.NS Daily data is already up to date. No new rows to add.\n",
      "⬇️ Downloading ^NSEI Daily data from 2025-05-06 to 2025-05-06...\n"
     ]
    },
    {
     "name": "stderr",
     "output_type": "stream",
     "text": [
      "[*********************100%***********************]  1 of 1 completed\n"
     ]
    },
    {
     "name": "stdout",
     "output_type": "stream",
     "text": [
      "✅ ^NSEI Daily data is already up to date. No new rows to add.\n",
      "⬇️ Downloading RELIANCE.NS 60m data from 2025-05-07 10:15:00 to 2025-05-07 12:15:00...\n"
     ]
    },
    {
     "name": "stderr",
     "output_type": "stream",
     "text": [
      "[*********************100%***********************]  1 of 1 completed\n"
     ]
    },
    {
     "name": "stdout",
     "output_type": "stream",
     "text": [
      "✅ RELIANCE.NS 60m data updated with 1 new rows at 12:16:02.\n",
      "⬇️ Downloading AAPL 60m data from 2025-05-06 15:30:00 to 2025-05-07 12:15:00...\n"
     ]
    },
    {
     "name": "stderr",
     "output_type": "stream",
     "text": [
      "[*********************100%***********************]  1 of 1 completed\n"
     ]
    },
    {
     "name": "stdout",
     "output_type": "stream",
     "text": [
      "✅ AAPL 60m data is already up to date. No new rows added.\n",
      "⬇️ Downloading ADANIPORTS.NS 60m data from 2025-05-07 10:15:00 to 2025-05-07 12:15:00...\n"
     ]
    },
    {
     "name": "stderr",
     "output_type": "stream",
     "text": [
      "[*********************100%***********************]  1 of 1 completed\n"
     ]
    },
    {
     "name": "stdout",
     "output_type": "stream",
     "text": [
      "✅ ADANIPORTS.NS 60m data updated with 1 new rows at 12:16:02.\n",
      "⬇️ Downloading ^NSEI 60m data from 2025-05-07 10:15:00 to 2025-05-07 12:15:00...\n"
     ]
    },
    {
     "name": "stderr",
     "output_type": "stream",
     "text": [
      "[*********************100%***********************]  1 of 1 completed\n"
     ]
    },
    {
     "name": "stdout",
     "output_type": "stream",
     "text": [
      "✅ ^NSEI 60m data updated with 1 new rows at 12:16:02.\n",
      "✅ 60m indicators added for RELIANCE.NS\n",
      "✅ Daily indicators added for RELIANCE.NS\n",
      "✅ 60m indicators added for AAPL\n",
      "✅ Daily indicators added for AAPL\n",
      "✅ 60m indicators added for ADANIPORTS.NS\n",
      "✅ Daily indicators added for ADANIPORTS.NS\n",
      "✅ 60m indicators added for ^NSEI\n",
      "✅ Daily indicators added for ^NSEI\n",
      "✅ 60m Signals (entry + exit) generated and saved for RELIANCE.NS\n",
      "✅ 60m Signals (entry + exit) generated and saved for AAPL\n",
      "✅ 60m Signals (entry + exit) generated and saved for ADANIPORTS.NS\n",
      "✅ 60m Signals (entry + exit) generated and saved for ^NSEI\n",
      "✅ Alert sent for RELIANCE.NS\n",
      "✅ Alert sent for ADANIPORTS.NS\n",
      "✅ Alert sent for ^NSEI\n",
      "⛔ Scheduler stopped.\n"
     ]
    }
   ],
   "source": [
    "start_scheduler()"
   ]
  },
  {
   "cell_type": "markdown",
   "id": "85cf8f9e",
   "metadata": {},
   "source": [
    "### Manual Runs"
   ]
  },
  {
   "cell_type": "code",
   "execution_count": null,
   "id": "72042b0a",
   "metadata": {},
   "outputs": [],
   "source": [
    "# Run the complete Trading Bot Workflow\n",
    "run_trading_bot(tickers)"
   ]
  },
  {
   "cell_type": "code",
   "execution_count": null,
   "id": "5dd468f5",
   "metadata": {},
   "outputs": [],
   "source": [
    "# Update the data and calculate indicators\n",
    "update_data_and_calculate_indicators(tickers)"
   ]
  },
  {
   "cell_type": "code",
   "execution_count": null,
   "id": "7cd31c9d",
   "metadata": {},
   "outputs": [],
   "source": [
    "# Update the Daily data\n",
    "update_daily_data(tickers)"
   ]
  },
  {
   "cell_type": "code",
   "execution_count": null,
   "id": "6b35b531",
   "metadata": {},
   "outputs": [],
   "source": [
    "# Update the 60m data\n",
    "update_60m_data(tickers)"
   ]
  },
  {
   "cell_type": "markdown",
   "id": "330bc5f0",
   "metadata": {},
   "source": [
    "### Charts"
   ]
  },
  {
   "cell_type": "code",
   "execution_count": null,
   "id": "9ad5516b",
   "metadata": {},
   "outputs": [],
   "source": [
    "df = pd.read_csv(\"data/processed/RELIANCE.NS_60m.csv\", parse_dates=['Datetime'], index_col='Datetime').tail(200)"
   ]
  },
  {
   "cell_type": "code",
   "execution_count": null,
   "id": "9bfd7d66",
   "metadata": {},
   "outputs": [],
   "source": [
    "plot_candlesticks_RSI_chart(df)"
   ]
  },
  {
   "cell_type": "code",
   "execution_count": null,
   "id": "bab70107",
   "metadata": {},
   "outputs": [],
   "source": [
    "plot_candlesticks_RSI_chart(df, 8)"
   ]
  }
 ],
 "metadata": {
  "kernelspec": {
   "display_name": "Python 3",
   "language": "python",
   "name": "python3"
  },
  "language_info": {
   "codemirror_mode": {
    "name": "ipython",
    "version": 3
   },
   "file_extension": ".py",
   "mimetype": "text/x-python",
   "name": "python",
   "nbconvert_exporter": "python",
   "pygments_lexer": "ipython3",
   "version": "3.10.2"
  }
 },
 "nbformat": 4,
 "nbformat_minor": 5
}
